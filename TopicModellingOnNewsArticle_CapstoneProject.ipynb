{
  "cells": [
    {
      "cell_type": "markdown",
      "metadata": {
        "id": "view-in-github",
        "colab_type": "text"
      },
      "source": [
        "<a href=\"https://colab.research.google.com/github/sahoomrutyunjaya12345/TopicModellingonNewsArticle/blob/main/TopicModellingOnNewsArticle_CapstoneProject.ipynb\" target=\"_parent\"><img src=\"https://colab.research.google.com/assets/colab-badge.svg\" alt=\"Open In Colab\"/></a>"
      ]
    },
    {
      "cell_type": "markdown",
      "metadata": {
        "id": "vncDsAP0Gaoa"
      },
      "source": [
        "# **Project Name**    - Extraction/identification of major topics & themes discussed in news articles. \n",
        "\n"
      ]
    },
    {
      "cell_type": "markdown",
      "metadata": {
        "id": "beRrZCGUAJYm"
      },
      "source": [
        "##### **Project Type**    - Unsupervised\n",
        "##### **Contribution**    - Individual\n",
        "##### **Team Member  -**   Mrutyunjaya Sahoo\n"
      ]
    },
    {
      "cell_type": "markdown",
      "metadata": {
        "id": "FJNUwmbgGyua"
      },
      "source": [
        "# **Project Summary -**"
      ]
    },
    {
      "cell_type": "markdown",
      "metadata": {
        "id": "F6v_1wHtG2nS"
      },
      "source": [
        "Write the summary here within 500-600 words."
      ]
    },
    {
      "cell_type": "markdown",
      "metadata": {
        "id": "w6K7xa23Elo4"
      },
      "source": [
        "# **GitHub Link -**"
      ]
    },
    {
      "cell_type": "markdown",
      "metadata": {
        "id": "h1o69JH3Eqqn"
      },
      "source": [
        "Provide your GitHub Link here."
      ]
    },
    {
      "cell_type": "markdown",
      "metadata": {
        "id": "yQaldy8SH6Dl"
      },
      "source": [
        "# **Problem Statement**\n"
      ]
    },
    {
      "cell_type": "markdown",
      "metadata": {
        "id": "DpeJGUA3kjGy"
      },
      "source": [
        "**In this project our task is to identify major themes/topics across a collection of BBC news articles. You can use clustering algorithms such as Latent Dirichlet Allocation (LDA), Latent Semantic Analysis (LSA) etc.**"
      ]
    },
    {
      "cell_type": "markdown",
      "metadata": {
        "id": "Muh5cJ86-vRC"
      },
      "source": [
        "###**Data Description**\n",
        "\n",
        "**The dataset contains a set of news articles for each major segment consisting of business, entertainment, politics, sports and technology. You need to create an aggregate dataset of all the news articles and perform topic modeling on this dataset. Verify whether these topics correspond to the different tags available.**"
      ]
    },
    {
      "cell_type": "code",
      "source": [
        "import pandas as pd\n",
        "import numpy as np\n",
        "import os\n",
        "import matplotlib.pyplot as plt\n",
        "%matplotlib inline\n",
        "import seaborn as sns\n"
      ],
      "metadata": {
        "id": "W1eXQKphkOKi"
      },
      "execution_count": 51,
      "outputs": []
    },
    {
      "cell_type": "code",
      "source": [
        "!pip install contractions\n",
        "!pip install pyLDAvis  "
      ],
      "metadata": {
        "id": "smo2nD54U3Tk",
        "colab": {
          "base_uri": "https://localhost:8080/"
        },
        "outputId": "a5cda949-85c2-48cc-f661-1918f1bfc954"
      },
      "execution_count": 23,
      "outputs": [
        {
          "output_type": "stream",
          "name": "stdout",
          "text": [
            "Looking in indexes: https://pypi.org/simple, https://us-python.pkg.dev/colab-wheels/public/simple/\n",
            "Requirement already satisfied: contractions in /usr/local/lib/python3.10/dist-packages (0.1.73)\n",
            "Requirement already satisfied: textsearch>=0.0.21 in /usr/local/lib/python3.10/dist-packages (from contractions) (0.0.24)\n",
            "Requirement already satisfied: anyascii in /usr/local/lib/python3.10/dist-packages (from textsearch>=0.0.21->contractions) (0.3.2)\n",
            "Requirement already satisfied: pyahocorasick in /usr/local/lib/python3.10/dist-packages (from textsearch>=0.0.21->contractions) (2.0.0)\n",
            "Looking in indexes: https://pypi.org/simple, https://us-python.pkg.dev/colab-wheels/public/simple/\n",
            "Requirement already satisfied: pyLDAvis in /usr/local/lib/python3.10/dist-packages (3.4.1)\n",
            "Requirement already satisfied: numexpr in /usr/local/lib/python3.10/dist-packages (from pyLDAvis) (2.8.4)\n",
            "Requirement already satisfied: gensim in /usr/local/lib/python3.10/dist-packages (from pyLDAvis) (4.3.1)\n",
            "Requirement already satisfied: setuptools in /usr/local/lib/python3.10/dist-packages (from pyLDAvis) (67.7.2)\n",
            "Requirement already satisfied: jinja2 in /usr/local/lib/python3.10/dist-packages (from pyLDAvis) (3.1.2)\n",
            "Requirement already satisfied: numpy>=1.24.2 in /usr/local/lib/python3.10/dist-packages (from pyLDAvis) (1.24.3)\n",
            "Requirement already satisfied: scipy in /usr/local/lib/python3.10/dist-packages (from pyLDAvis) (1.10.1)\n",
            "Requirement already satisfied: joblib>=1.2.0 in /usr/local/lib/python3.10/dist-packages (from pyLDAvis) (1.2.0)\n",
            "Requirement already satisfied: pandas>=2.0.0 in /usr/local/lib/python3.10/dist-packages (from pyLDAvis) (2.0.1)\n",
            "Requirement already satisfied: scikit-learn>=1.0.0 in /usr/local/lib/python3.10/dist-packages (from pyLDAvis) (1.2.2)\n",
            "Requirement already satisfied: funcy in /usr/local/lib/python3.10/dist-packages (from pyLDAvis) (2.0)\n",
            "Requirement already satisfied: tzdata>=2022.1 in /usr/local/lib/python3.10/dist-packages (from pandas>=2.0.0->pyLDAvis) (2023.3)\n",
            "Requirement already satisfied: python-dateutil>=2.8.2 in /usr/local/lib/python3.10/dist-packages (from pandas>=2.0.0->pyLDAvis) (2.8.2)\n",
            "Requirement already satisfied: pytz>=2020.1 in /usr/local/lib/python3.10/dist-packages (from pandas>=2.0.0->pyLDAvis) (2022.7.1)\n",
            "Requirement already satisfied: threadpoolctl>=2.0.0 in /usr/local/lib/python3.10/dist-packages (from scikit-learn>=1.0.0->pyLDAvis) (3.1.0)\n",
            "Requirement already satisfied: smart-open>=1.8.1 in /usr/local/lib/python3.10/dist-packages (from gensim->pyLDAvis) (6.3.0)\n",
            "Requirement already satisfied: MarkupSafe>=2.0 in /usr/local/lib/python3.10/dist-packages (from jinja2->pyLDAvis) (2.1.2)\n",
            "Requirement already satisfied: six>=1.5 in /usr/local/lib/python3.10/dist-packages (from python-dateutil>=2.8.2->pandas>=2.0.0->pyLDAvis) (1.16.0)\n"
          ]
        }
      ]
    },
    {
      "cell_type": "code",
      "source": [
        "!pip install beautifulsoup4\n",
        "!pip install nltk\n",
        "!pip install wordcloud\n",
        "!pip install scikit-learn\n"
      ],
      "metadata": {
        "colab": {
          "base_uri": "https://localhost:8080/"
        },
        "id": "8aCGzjyelOaB",
        "outputId": "a6a52358-27a8-4fb5-c0cd-1c6b300b6400"
      },
      "execution_count": 24,
      "outputs": [
        {
          "output_type": "stream",
          "name": "stdout",
          "text": [
            "Looking in indexes: https://pypi.org/simple, https://us-python.pkg.dev/colab-wheels/public/simple/\n",
            "Requirement already satisfied: beautifulsoup4 in /usr/local/lib/python3.10/dist-packages (4.11.2)\n",
            "Requirement already satisfied: soupsieve>1.2 in /usr/local/lib/python3.10/dist-packages (from beautifulsoup4) (2.4.1)\n",
            "Looking in indexes: https://pypi.org/simple, https://us-python.pkg.dev/colab-wheels/public/simple/\n",
            "Requirement already satisfied: nltk in /usr/local/lib/python3.10/dist-packages (3.8.1)\n",
            "Requirement already satisfied: tqdm in /usr/local/lib/python3.10/dist-packages (from nltk) (4.65.0)\n",
            "Requirement already satisfied: joblib in /usr/local/lib/python3.10/dist-packages (from nltk) (1.2.0)\n",
            "Requirement already satisfied: regex>=2021.8.3 in /usr/local/lib/python3.10/dist-packages (from nltk) (2022.10.31)\n",
            "Requirement already satisfied: click in /usr/local/lib/python3.10/dist-packages (from nltk) (8.1.3)\n",
            "Looking in indexes: https://pypi.org/simple, https://us-python.pkg.dev/colab-wheels/public/simple/\n",
            "Requirement already satisfied: wordcloud in /usr/local/lib/python3.10/dist-packages (1.8.2.2)\n",
            "Requirement already satisfied: pillow in /usr/local/lib/python3.10/dist-packages (from wordcloud) (8.4.0)\n",
            "Requirement already satisfied: numpy>=1.6.1 in /usr/local/lib/python3.10/dist-packages (from wordcloud) (1.24.3)\n",
            "Requirement already satisfied: matplotlib in /usr/local/lib/python3.10/dist-packages (from wordcloud) (3.7.1)\n",
            "Requirement already satisfied: contourpy>=1.0.1 in /usr/local/lib/python3.10/dist-packages (from matplotlib->wordcloud) (1.0.7)\n",
            "Requirement already satisfied: cycler>=0.10 in /usr/local/lib/python3.10/dist-packages (from matplotlib->wordcloud) (0.11.0)\n",
            "Requirement already satisfied: fonttools>=4.22.0 in /usr/local/lib/python3.10/dist-packages (from matplotlib->wordcloud) (4.39.3)\n",
            "Requirement already satisfied: kiwisolver>=1.0.1 in /usr/local/lib/python3.10/dist-packages (from matplotlib->wordcloud) (1.4.4)\n",
            "Requirement already satisfied: python-dateutil>=2.7 in /usr/local/lib/python3.10/dist-packages (from matplotlib->wordcloud) (2.8.2)\n",
            "Requirement already satisfied: pyparsing>=2.3.1 in /usr/local/lib/python3.10/dist-packages (from matplotlib->wordcloud) (3.0.9)\n",
            "Requirement already satisfied: packaging>=20.0 in /usr/local/lib/python3.10/dist-packages (from matplotlib->wordcloud) (23.1)\n",
            "Requirement already satisfied: six>=1.5 in /usr/local/lib/python3.10/dist-packages (from python-dateutil>=2.7->matplotlib->wordcloud) (1.16.0)\n",
            "Looking in indexes: https://pypi.org/simple, https://us-python.pkg.dev/colab-wheels/public/simple/\n",
            "Requirement already satisfied: scikit-learn in /usr/local/lib/python3.10/dist-packages (1.2.2)\n",
            "Requirement already satisfied: threadpoolctl>=2.0.0 in /usr/local/lib/python3.10/dist-packages (from scikit-learn) (3.1.0)\n",
            "Requirement already satisfied: joblib>=1.1.1 in /usr/local/lib/python3.10/dist-packages (from scikit-learn) (1.2.0)\n",
            "Requirement already satisfied: scipy>=1.3.2 in /usr/local/lib/python3.10/dist-packages (from scikit-learn) (1.10.1)\n",
            "Requirement already satisfied: numpy>=1.17.3 in /usr/local/lib/python3.10/dist-packages (from scikit-learn) (1.24.3)\n"
          ]
        }
      ]
    },
    {
      "cell_type": "code",
      "source": [
        "# Python library used to scrape data from webpages\n",
        "from bs4 import BeautifulSoup\n",
        "# Module which provides regular expression matching operations\n",
        "import re\n",
        "# For string manipulation\n",
        "import string\n",
        "# Popular library to pre-process the text in NLP\n",
        "import nltk\n",
        "# Downloading stopwords\n",
        "nltk.download('wordnet')\n",
        "nltk.download('omw-1.4')\n",
        "nltk.download('stopwords')\n",
        "\n",
        "from nltk.stem import WordNetLemmatizer\n",
        "## Stopwords package from nltk\n",
        "from nltk.corpus import stopwords\n",
        "# Create interactive wordclouds\n",
        "from wordcloud import WordCloud\n",
        "# Ignore warnings\n",
        "import warnings\n",
        "warnings.simplefilter(action='ignore', category=FutureWarning)\n",
        "warnings.filterwarnings(\"ignore\", category=DeprecationWarning)\n"
      ],
      "metadata": {
        "colab": {
          "base_uri": "https://localhost:8080/"
        },
        "id": "C4C-QYLukyOe",
        "outputId": "cb6d10b5-7aca-4beb-d29b-c1f97b938a96"
      },
      "execution_count": 25,
      "outputs": [
        {
          "output_type": "stream",
          "name": "stderr",
          "text": [
            "[nltk_data] Downloading package wordnet to /root/nltk_data...\n",
            "[nltk_data]   Package wordnet is already up-to-date!\n",
            "[nltk_data] Downloading package omw-1.4 to /root/nltk_data...\n",
            "[nltk_data]   Package omw-1.4 is already up-to-date!\n",
            "[nltk_data] Downloading package stopwords to /root/nltk_data...\n",
            "[nltk_data]   Package stopwords is already up-to-date!\n"
          ]
        }
      ]
    },
    {
      "cell_type": "code",
      "execution_count": 27,
      "metadata": {
        "colab": {
          "base_uri": "https://localhost:8080/"
        },
        "id": "53yLNedmAkou",
        "outputId": "b2f09208-0d61-4229-dcdf-26e009cd91c6"
      },
      "outputs": [
        {
          "output_type": "stream",
          "name": "stdout",
          "text": [
            "Drive already mounted at /content/drive; to attempt to forcibly remount, call drive.mount(\"/content/drive\", force_remount=True).\n"
          ]
        }
      ],
      "source": [
        "# Mounting thr drive\n",
        "from google.colab import drive\n",
        "drive.mount('/content/drive')\n"
      ]
    },
    {
      "cell_type": "code",
      "execution_count": 28,
      "metadata": {
        "id": "rzzZZ87ANf8g"
      },
      "outputs": [],
      "source": [
        "path = '/content/drive/MyDrive/AlmaBetter/NEWS POPULARITY PREDICTION CAPSTONE/bbc/'"
      ]
    },
    {
      "cell_type": "code",
      "execution_count": 29,
      "metadata": {
        "id": "5tloAACOgY8F"
      },
      "outputs": [],
      "source": [
        "news = []                                                                        ## Empty list for storing actual news in text       \n",
        "topics = []                                                                      ## Empty list for new theme"
      ]
    },
    {
      "cell_type": "code",
      "execution_count": 30,
      "metadata": {
        "id": "d8gM_dCBggkC"
      },
      "outputs": [],
      "source": [
        "Themes = ['business','entertainment','politics','sport','tech']  ## News themes "
      ]
    },
    {
      "cell_type": "code",
      "execution_count": 31,
      "metadata": {
        "id": "DfG8GaFQgj5e"
      },
      "outputs": [],
      "source": [
        "for x in Themes:                                                                 ## For every item in Themes\n",
        "    all_txt_files=sorted(os.listdir(path+x))                                     ## List all files present in given directory in sorted order\n",
        "    for files in all_txt_files:                                                  ## For every item in txt_files\n",
        "        txt_path=path + x + '/' + files                                          ## specifying exact path of every text news file\n",
        "        with open(txt_path,'rb') as f:                                           ## open a text file\n",
        "            text=f.read()                                                        ## read text file\n",
        "        news.append(text)                                                        ## append text file which is our news, to empty news list\n",
        "        topics.append(x)                                                         ## append the topic of news file to empty topics list"
      ]
    },
    {
      "cell_type": "code",
      "execution_count": 32,
      "metadata": {
        "id": "UqTSlTr1gppS"
      },
      "outputs": [],
      "source": [
        "# Creating an empty dataframe\n",
        "news_data = pd.DataFrame()  "
      ]
    },
    {
      "cell_type": "code",
      "execution_count": 33,
      "metadata": {
        "colab": {
          "base_uri": "https://localhost:8080/",
          "height": 206
        },
        "id": "zEWAY_2vheHb",
        "outputId": "c653c19d-914b-453f-f051-8b0f24552306"
      },
      "outputs": [
        {
          "output_type": "execute_result",
          "data": {
            "text/plain": [
              "                                           News_text News_Theme\n",
              "0  b'Ad sales boost Time Warner profit\\n\\nQuarter...   business\n",
              "1  b'Dollar gains on Greenspan speech\\n\\nThe doll...   business\n",
              "2  b'Yukos unit buyer faces loan claim\\n\\nThe own...   business\n",
              "3  b'High fuel prices hit BA\\'s profits\\n\\nBritis...   business\n",
              "4  b\"Pernod takeover talk lifts Domecq\\n\\nShares ...   business"
            ],
            "text/html": [
              "\n",
              "  <div id=\"df-24cee4d6-f915-410c-96e7-e23130633146\">\n",
              "    <div class=\"colab-df-container\">\n",
              "      <div>\n",
              "<style scoped>\n",
              "    .dataframe tbody tr th:only-of-type {\n",
              "        vertical-align: middle;\n",
              "    }\n",
              "\n",
              "    .dataframe tbody tr th {\n",
              "        vertical-align: top;\n",
              "    }\n",
              "\n",
              "    .dataframe thead th {\n",
              "        text-align: right;\n",
              "    }\n",
              "</style>\n",
              "<table border=\"1\" class=\"dataframe\">\n",
              "  <thead>\n",
              "    <tr style=\"text-align: right;\">\n",
              "      <th></th>\n",
              "      <th>News_text</th>\n",
              "      <th>News_Theme</th>\n",
              "    </tr>\n",
              "  </thead>\n",
              "  <tbody>\n",
              "    <tr>\n",
              "      <th>0</th>\n",
              "      <td>b'Ad sales boost Time Warner profit\\n\\nQuarter...</td>\n",
              "      <td>business</td>\n",
              "    </tr>\n",
              "    <tr>\n",
              "      <th>1</th>\n",
              "      <td>b'Dollar gains on Greenspan speech\\n\\nThe doll...</td>\n",
              "      <td>business</td>\n",
              "    </tr>\n",
              "    <tr>\n",
              "      <th>2</th>\n",
              "      <td>b'Yukos unit buyer faces loan claim\\n\\nThe own...</td>\n",
              "      <td>business</td>\n",
              "    </tr>\n",
              "    <tr>\n",
              "      <th>3</th>\n",
              "      <td>b'High fuel prices hit BA\\'s profits\\n\\nBritis...</td>\n",
              "      <td>business</td>\n",
              "    </tr>\n",
              "    <tr>\n",
              "      <th>4</th>\n",
              "      <td>b\"Pernod takeover talk lifts Domecq\\n\\nShares ...</td>\n",
              "      <td>business</td>\n",
              "    </tr>\n",
              "  </tbody>\n",
              "</table>\n",
              "</div>\n",
              "      <button class=\"colab-df-convert\" onclick=\"convertToInteractive('df-24cee4d6-f915-410c-96e7-e23130633146')\"\n",
              "              title=\"Convert this dataframe to an interactive table.\"\n",
              "              style=\"display:none;\">\n",
              "        \n",
              "  <svg xmlns=\"http://www.w3.org/2000/svg\" height=\"24px\"viewBox=\"0 0 24 24\"\n",
              "       width=\"24px\">\n",
              "    <path d=\"M0 0h24v24H0V0z\" fill=\"none\"/>\n",
              "    <path d=\"M18.56 5.44l.94 2.06.94-2.06 2.06-.94-2.06-.94-.94-2.06-.94 2.06-2.06.94zm-11 1L8.5 8.5l.94-2.06 2.06-.94-2.06-.94L8.5 2.5l-.94 2.06-2.06.94zm10 10l.94 2.06.94-2.06 2.06-.94-2.06-.94-.94-2.06-.94 2.06-2.06.94z\"/><path d=\"M17.41 7.96l-1.37-1.37c-.4-.4-.92-.59-1.43-.59-.52 0-1.04.2-1.43.59L10.3 9.45l-7.72 7.72c-.78.78-.78 2.05 0 2.83L4 21.41c.39.39.9.59 1.41.59.51 0 1.02-.2 1.41-.59l7.78-7.78 2.81-2.81c.8-.78.8-2.07 0-2.86zM5.41 20L4 18.59l7.72-7.72 1.47 1.35L5.41 20z\"/>\n",
              "  </svg>\n",
              "      </button>\n",
              "      \n",
              "  <style>\n",
              "    .colab-df-container {\n",
              "      display:flex;\n",
              "      flex-wrap:wrap;\n",
              "      gap: 12px;\n",
              "    }\n",
              "\n",
              "    .colab-df-convert {\n",
              "      background-color: #E8F0FE;\n",
              "      border: none;\n",
              "      border-radius: 50%;\n",
              "      cursor: pointer;\n",
              "      display: none;\n",
              "      fill: #1967D2;\n",
              "      height: 32px;\n",
              "      padding: 0 0 0 0;\n",
              "      width: 32px;\n",
              "    }\n",
              "\n",
              "    .colab-df-convert:hover {\n",
              "      background-color: #E2EBFA;\n",
              "      box-shadow: 0px 1px 2px rgba(60, 64, 67, 0.3), 0px 1px 3px 1px rgba(60, 64, 67, 0.15);\n",
              "      fill: #174EA6;\n",
              "    }\n",
              "\n",
              "    [theme=dark] .colab-df-convert {\n",
              "      background-color: #3B4455;\n",
              "      fill: #D2E3FC;\n",
              "    }\n",
              "\n",
              "    [theme=dark] .colab-df-convert:hover {\n",
              "      background-color: #434B5C;\n",
              "      box-shadow: 0px 1px 3px 1px rgba(0, 0, 0, 0.15);\n",
              "      filter: drop-shadow(0px 1px 2px rgba(0, 0, 0, 0.3));\n",
              "      fill: #FFFFFF;\n",
              "    }\n",
              "  </style>\n",
              "\n",
              "      <script>\n",
              "        const buttonEl =\n",
              "          document.querySelector('#df-24cee4d6-f915-410c-96e7-e23130633146 button.colab-df-convert');\n",
              "        buttonEl.style.display =\n",
              "          google.colab.kernel.accessAllowed ? 'block' : 'none';\n",
              "\n",
              "        async function convertToInteractive(key) {\n",
              "          const element = document.querySelector('#df-24cee4d6-f915-410c-96e7-e23130633146');\n",
              "          const dataTable =\n",
              "            await google.colab.kernel.invokeFunction('convertToInteractive',\n",
              "                                                     [key], {});\n",
              "          if (!dataTable) return;\n",
              "\n",
              "          const docLinkHtml = 'Like what you see? Visit the ' +\n",
              "            '<a target=\"_blank\" href=https://colab.research.google.com/notebooks/data_table.ipynb>data table notebook</a>'\n",
              "            + ' to learn more about interactive tables.';\n",
              "          element.innerHTML = '';\n",
              "          dataTable['output_type'] = 'display_data';\n",
              "          await google.colab.output.renderOutput(dataTable, element);\n",
              "          const docLink = document.createElement('div');\n",
              "          docLink.innerHTML = docLinkHtml;\n",
              "          element.appendChild(docLink);\n",
              "        }\n",
              "      </script>\n",
              "    </div>\n",
              "  </div>\n",
              "  "
            ]
          },
          "metadata": {},
          "execution_count": 33
        }
      ],
      "source": [
        "# Adding both new column\n",
        "news_data['News_text'] = news                                                    \n",
        "news_data['News_Theme'] = topics  \n",
        "\n",
        "news_data.head()\n",
        "     "
      ]
    },
    {
      "cell_type": "code",
      "execution_count": 34,
      "metadata": {
        "colab": {
          "base_uri": "https://localhost:8080/",
          "height": 206
        },
        "id": "0Ud9-slah8C_",
        "outputId": "7ce4835e-81db-4a93-a3a4-8b5fd97fb4d9"
      },
      "outputs": [
        {
          "output_type": "execute_result",
          "data": {
            "text/plain": [
              "                                              News_text News_Theme\n",
              "2220  b'BT program to beat dialler scams\\n\\nBT is in...       tech\n",
              "2221  b'Spam e-mails tempt net shoppers\\n\\nComputer ...       tech\n",
              "2222  b'Be careful how you code\\n\\nA new European di...       tech\n",
              "2223  b'US cyber security chief resigns\\n\\nThe man m...       tech\n",
              "2224  b'Losing yourself in online gaming\\n\\nOnline r...       tech"
            ],
            "text/html": [
              "\n",
              "  <div id=\"df-ac3a2417-3d1e-4e38-9e77-eb9731148e53\">\n",
              "    <div class=\"colab-df-container\">\n",
              "      <div>\n",
              "<style scoped>\n",
              "    .dataframe tbody tr th:only-of-type {\n",
              "        vertical-align: middle;\n",
              "    }\n",
              "\n",
              "    .dataframe tbody tr th {\n",
              "        vertical-align: top;\n",
              "    }\n",
              "\n",
              "    .dataframe thead th {\n",
              "        text-align: right;\n",
              "    }\n",
              "</style>\n",
              "<table border=\"1\" class=\"dataframe\">\n",
              "  <thead>\n",
              "    <tr style=\"text-align: right;\">\n",
              "      <th></th>\n",
              "      <th>News_text</th>\n",
              "      <th>News_Theme</th>\n",
              "    </tr>\n",
              "  </thead>\n",
              "  <tbody>\n",
              "    <tr>\n",
              "      <th>2220</th>\n",
              "      <td>b'BT program to beat dialler scams\\n\\nBT is in...</td>\n",
              "      <td>tech</td>\n",
              "    </tr>\n",
              "    <tr>\n",
              "      <th>2221</th>\n",
              "      <td>b'Spam e-mails tempt net shoppers\\n\\nComputer ...</td>\n",
              "      <td>tech</td>\n",
              "    </tr>\n",
              "    <tr>\n",
              "      <th>2222</th>\n",
              "      <td>b'Be careful how you code\\n\\nA new European di...</td>\n",
              "      <td>tech</td>\n",
              "    </tr>\n",
              "    <tr>\n",
              "      <th>2223</th>\n",
              "      <td>b'US cyber security chief resigns\\n\\nThe man m...</td>\n",
              "      <td>tech</td>\n",
              "    </tr>\n",
              "    <tr>\n",
              "      <th>2224</th>\n",
              "      <td>b'Losing yourself in online gaming\\n\\nOnline r...</td>\n",
              "      <td>tech</td>\n",
              "    </tr>\n",
              "  </tbody>\n",
              "</table>\n",
              "</div>\n",
              "      <button class=\"colab-df-convert\" onclick=\"convertToInteractive('df-ac3a2417-3d1e-4e38-9e77-eb9731148e53')\"\n",
              "              title=\"Convert this dataframe to an interactive table.\"\n",
              "              style=\"display:none;\">\n",
              "        \n",
              "  <svg xmlns=\"http://www.w3.org/2000/svg\" height=\"24px\"viewBox=\"0 0 24 24\"\n",
              "       width=\"24px\">\n",
              "    <path d=\"M0 0h24v24H0V0z\" fill=\"none\"/>\n",
              "    <path d=\"M18.56 5.44l.94 2.06.94-2.06 2.06-.94-2.06-.94-.94-2.06-.94 2.06-2.06.94zm-11 1L8.5 8.5l.94-2.06 2.06-.94-2.06-.94L8.5 2.5l-.94 2.06-2.06.94zm10 10l.94 2.06.94-2.06 2.06-.94-2.06-.94-.94-2.06-.94 2.06-2.06.94z\"/><path d=\"M17.41 7.96l-1.37-1.37c-.4-.4-.92-.59-1.43-.59-.52 0-1.04.2-1.43.59L10.3 9.45l-7.72 7.72c-.78.78-.78 2.05 0 2.83L4 21.41c.39.39.9.59 1.41.59.51 0 1.02-.2 1.41-.59l7.78-7.78 2.81-2.81c.8-.78.8-2.07 0-2.86zM5.41 20L4 18.59l7.72-7.72 1.47 1.35L5.41 20z\"/>\n",
              "  </svg>\n",
              "      </button>\n",
              "      \n",
              "  <style>\n",
              "    .colab-df-container {\n",
              "      display:flex;\n",
              "      flex-wrap:wrap;\n",
              "      gap: 12px;\n",
              "    }\n",
              "\n",
              "    .colab-df-convert {\n",
              "      background-color: #E8F0FE;\n",
              "      border: none;\n",
              "      border-radius: 50%;\n",
              "      cursor: pointer;\n",
              "      display: none;\n",
              "      fill: #1967D2;\n",
              "      height: 32px;\n",
              "      padding: 0 0 0 0;\n",
              "      width: 32px;\n",
              "    }\n",
              "\n",
              "    .colab-df-convert:hover {\n",
              "      background-color: #E2EBFA;\n",
              "      box-shadow: 0px 1px 2px rgba(60, 64, 67, 0.3), 0px 1px 3px 1px rgba(60, 64, 67, 0.15);\n",
              "      fill: #174EA6;\n",
              "    }\n",
              "\n",
              "    [theme=dark] .colab-df-convert {\n",
              "      background-color: #3B4455;\n",
              "      fill: #D2E3FC;\n",
              "    }\n",
              "\n",
              "    [theme=dark] .colab-df-convert:hover {\n",
              "      background-color: #434B5C;\n",
              "      box-shadow: 0px 1px 3px 1px rgba(0, 0, 0, 0.15);\n",
              "      filter: drop-shadow(0px 1px 2px rgba(0, 0, 0, 0.3));\n",
              "      fill: #FFFFFF;\n",
              "    }\n",
              "  </style>\n",
              "\n",
              "      <script>\n",
              "        const buttonEl =\n",
              "          document.querySelector('#df-ac3a2417-3d1e-4e38-9e77-eb9731148e53 button.colab-df-convert');\n",
              "        buttonEl.style.display =\n",
              "          google.colab.kernel.accessAllowed ? 'block' : 'none';\n",
              "\n",
              "        async function convertToInteractive(key) {\n",
              "          const element = document.querySelector('#df-ac3a2417-3d1e-4e38-9e77-eb9731148e53');\n",
              "          const dataTable =\n",
              "            await google.colab.kernel.invokeFunction('convertToInteractive',\n",
              "                                                     [key], {});\n",
              "          if (!dataTable) return;\n",
              "\n",
              "          const docLinkHtml = 'Like what you see? Visit the ' +\n",
              "            '<a target=\"_blank\" href=https://colab.research.google.com/notebooks/data_table.ipynb>data table notebook</a>'\n",
              "            + ' to learn more about interactive tables.';\n",
              "          element.innerHTML = '';\n",
              "          dataTable['output_type'] = 'display_data';\n",
              "          await google.colab.output.renderOutput(dataTable, element);\n",
              "          const docLink = document.createElement('div');\n",
              "          docLink.innerHTML = docLinkHtml;\n",
              "          element.appendChild(docLink);\n",
              "        }\n",
              "      </script>\n",
              "    </div>\n",
              "  </div>\n",
              "  "
            ]
          },
          "metadata": {},
          "execution_count": 34
        }
      ],
      "source": [
        "# checking the last 5 dataset\n",
        "news_data.tail()"
      ]
    },
    {
      "cell_type": "code",
      "execution_count": 35,
      "metadata": {
        "colab": {
          "base_uri": "https://localhost:8080/"
        },
        "id": "DD5CM_uYifiT",
        "outputId": "4b47ab24-3a67-4407-8c17-4a804a69e073"
      },
      "outputs": [
        {
          "output_type": "execute_result",
          "data": {
            "text/plain": [
              "(2225, 2)"
            ]
          },
          "metadata": {},
          "execution_count": 35
        }
      ],
      "source": [
        "# Checking the dataset rows and colimns\n",
        "news_data.shape"
      ]
    },
    {
      "cell_type": "code",
      "execution_count": 36,
      "metadata": {
        "colab": {
          "base_uri": "https://localhost:8080/"
        },
        "id": "J3pf2GsJiyEF",
        "outputId": "0c438d41-17a6-4cb2-ecd6-a1afaea0d02c"
      },
      "outputs": [
        {
          "output_type": "execute_result",
          "data": {
            "text/plain": [
              "Index(['News_text', 'News_Theme'], dtype='object')"
            ]
          },
          "metadata": {},
          "execution_count": 36
        }
      ],
      "source": [
        "# Checking the columns of the dataset\n",
        "news_data.columns"
      ]
    },
    {
      "cell_type": "code",
      "execution_count": 37,
      "metadata": {
        "id": "oCYJAJrHi5R-"
      },
      "outputs": [],
      "source": [
        "# Creating a copy of it\n",
        "data_df = news_data.copy()"
      ]
    },
    {
      "cell_type": "code",
      "execution_count": 38,
      "metadata": {
        "colab": {
          "base_uri": "https://localhost:8080/"
        },
        "id": "OwQjIYXCjM6n",
        "outputId": "62c8b61c-935e-4501-9365-97b7935f81be"
      },
      "outputs": [
        {
          "output_type": "stream",
          "name": "stdout",
          "text": [
            "<class 'pandas.core.frame.DataFrame'>\n",
            "RangeIndex: 2225 entries, 0 to 2224\n",
            "Data columns (total 2 columns):\n",
            " #   Column      Non-Null Count  Dtype \n",
            "---  ------      --------------  ----- \n",
            " 0   News_text   2225 non-null   object\n",
            " 1   News_Theme  2225 non-null   object\n",
            "dtypes: object(2)\n",
            "memory usage: 34.9+ KB\n"
          ]
        }
      ],
      "source": [
        "# Checking the info about dataset\n",
        "data_df.info()"
      ]
    },
    {
      "cell_type": "code",
      "execution_count": 39,
      "metadata": {
        "colab": {
          "base_uri": "https://localhost:8080/"
        },
        "id": "UUmo5h5SjTrd",
        "outputId": "cf042ecc-54fb-4e9b-bfbc-08ca0217cdb9"
      },
      "outputs": [
        {
          "output_type": "execute_result",
          "data": {
            "text/plain": [
              "98"
            ]
          },
          "metadata": {},
          "execution_count": 39
        }
      ],
      "source": [
        "# checking the no. of duplicates in the dataset\n",
        "data_df.duplicated().sum()"
      ]
    },
    {
      "cell_type": "code",
      "execution_count": 40,
      "metadata": {
        "colab": {
          "base_uri": "https://localhost:8080/"
        },
        "id": "yN61clz4j6le",
        "outputId": "eb575017-259d-4581-b11a-cc62d7cee836"
      },
      "outputs": [
        {
          "output_type": "execute_result",
          "data": {
            "text/plain": [
              "(2127, 2)"
            ]
          },
          "metadata": {},
          "execution_count": 40
        }
      ],
      "source": [
        "# dropping the duplicates\n",
        "data_df.drop_duplicates(keep = 'first',inplace=True)\n",
        "data_df.shape"
      ]
    },
    {
      "cell_type": "code",
      "execution_count": 41,
      "metadata": {
        "colab": {
          "base_uri": "https://localhost:8080/"
        },
        "id": "MQn2X-9vnGvW",
        "outputId": "880e5ea9-87e1-4b8f-8d3d-8eada2a85a5d"
      },
      "outputs": [
        {
          "output_type": "stream",
          "name": "stdout",
          "text": [
            "<class 'pandas.core.frame.DataFrame'>\n",
            "Index: 2127 entries, 0 to 2224\n",
            "Data columns (total 2 columns):\n",
            " #   Column      Non-Null Count  Dtype \n",
            "---  ------      --------------  ----- \n",
            " 0   News_text   2127 non-null   object\n",
            " 1   News_Theme  2127 non-null   object\n",
            "dtypes: object(2)\n",
            "memory usage: 49.9+ KB\n"
          ]
        }
      ],
      "source": [
        "# Checking the info\n",
        "data_df.info()"
      ]
    },
    {
      "cell_type": "code",
      "execution_count": 42,
      "metadata": {
        "colab": {
          "base_uri": "https://localhost:8080/"
        },
        "id": "FP2pD1iUnWvz",
        "outputId": "640438aa-f9d3-4fa6-bfd7-c2fc0cfe258f"
      },
      "outputs": [
        {
          "output_type": "execute_result",
          "data": {
            "text/plain": [
              "News_text     0\n",
              "News_Theme    0\n",
              "dtype: int64"
            ]
          },
          "metadata": {},
          "execution_count": 42
        }
      ],
      "source": [
        "# Checking for missing/Null values\n",
        "data_df.isnull().sum()"
      ]
    },
    {
      "cell_type": "code",
      "execution_count": 43,
      "metadata": {
        "colab": {
          "base_uri": "https://localhost:8080/",
          "height": 175
        },
        "id": "EiFENViWnqqZ",
        "outputId": "a5df382a-d128-4b79-a447-20a52b1fa0f4"
      },
      "outputs": [
        {
          "output_type": "execute_result",
          "data": {
            "text/plain": [
              "                                                News_text News_Theme\n",
              "count                                                2127       2127\n",
              "unique                                               2127          5\n",
              "top     b'Ad sales boost Time Warner profit\\n\\nQuarter...      sport\n",
              "freq                                                    1        505"
            ],
            "text/html": [
              "\n",
              "  <div id=\"df-3fef3fb8-dc3b-4ea8-bfcd-9b997325f320\">\n",
              "    <div class=\"colab-df-container\">\n",
              "      <div>\n",
              "<style scoped>\n",
              "    .dataframe tbody tr th:only-of-type {\n",
              "        vertical-align: middle;\n",
              "    }\n",
              "\n",
              "    .dataframe tbody tr th {\n",
              "        vertical-align: top;\n",
              "    }\n",
              "\n",
              "    .dataframe thead th {\n",
              "        text-align: right;\n",
              "    }\n",
              "</style>\n",
              "<table border=\"1\" class=\"dataframe\">\n",
              "  <thead>\n",
              "    <tr style=\"text-align: right;\">\n",
              "      <th></th>\n",
              "      <th>News_text</th>\n",
              "      <th>News_Theme</th>\n",
              "    </tr>\n",
              "  </thead>\n",
              "  <tbody>\n",
              "    <tr>\n",
              "      <th>count</th>\n",
              "      <td>2127</td>\n",
              "      <td>2127</td>\n",
              "    </tr>\n",
              "    <tr>\n",
              "      <th>unique</th>\n",
              "      <td>2127</td>\n",
              "      <td>5</td>\n",
              "    </tr>\n",
              "    <tr>\n",
              "      <th>top</th>\n",
              "      <td>b'Ad sales boost Time Warner profit\\n\\nQuarter...</td>\n",
              "      <td>sport</td>\n",
              "    </tr>\n",
              "    <tr>\n",
              "      <th>freq</th>\n",
              "      <td>1</td>\n",
              "      <td>505</td>\n",
              "    </tr>\n",
              "  </tbody>\n",
              "</table>\n",
              "</div>\n",
              "      <button class=\"colab-df-convert\" onclick=\"convertToInteractive('df-3fef3fb8-dc3b-4ea8-bfcd-9b997325f320')\"\n",
              "              title=\"Convert this dataframe to an interactive table.\"\n",
              "              style=\"display:none;\">\n",
              "        \n",
              "  <svg xmlns=\"http://www.w3.org/2000/svg\" height=\"24px\"viewBox=\"0 0 24 24\"\n",
              "       width=\"24px\">\n",
              "    <path d=\"M0 0h24v24H0V0z\" fill=\"none\"/>\n",
              "    <path d=\"M18.56 5.44l.94 2.06.94-2.06 2.06-.94-2.06-.94-.94-2.06-.94 2.06-2.06.94zm-11 1L8.5 8.5l.94-2.06 2.06-.94-2.06-.94L8.5 2.5l-.94 2.06-2.06.94zm10 10l.94 2.06.94-2.06 2.06-.94-2.06-.94-.94-2.06-.94 2.06-2.06.94z\"/><path d=\"M17.41 7.96l-1.37-1.37c-.4-.4-.92-.59-1.43-.59-.52 0-1.04.2-1.43.59L10.3 9.45l-7.72 7.72c-.78.78-.78 2.05 0 2.83L4 21.41c.39.39.9.59 1.41.59.51 0 1.02-.2 1.41-.59l7.78-7.78 2.81-2.81c.8-.78.8-2.07 0-2.86zM5.41 20L4 18.59l7.72-7.72 1.47 1.35L5.41 20z\"/>\n",
              "  </svg>\n",
              "      </button>\n",
              "      \n",
              "  <style>\n",
              "    .colab-df-container {\n",
              "      display:flex;\n",
              "      flex-wrap:wrap;\n",
              "      gap: 12px;\n",
              "    }\n",
              "\n",
              "    .colab-df-convert {\n",
              "      background-color: #E8F0FE;\n",
              "      border: none;\n",
              "      border-radius: 50%;\n",
              "      cursor: pointer;\n",
              "      display: none;\n",
              "      fill: #1967D2;\n",
              "      height: 32px;\n",
              "      padding: 0 0 0 0;\n",
              "      width: 32px;\n",
              "    }\n",
              "\n",
              "    .colab-df-convert:hover {\n",
              "      background-color: #E2EBFA;\n",
              "      box-shadow: 0px 1px 2px rgba(60, 64, 67, 0.3), 0px 1px 3px 1px rgba(60, 64, 67, 0.15);\n",
              "      fill: #174EA6;\n",
              "    }\n",
              "\n",
              "    [theme=dark] .colab-df-convert {\n",
              "      background-color: #3B4455;\n",
              "      fill: #D2E3FC;\n",
              "    }\n",
              "\n",
              "    [theme=dark] .colab-df-convert:hover {\n",
              "      background-color: #434B5C;\n",
              "      box-shadow: 0px 1px 3px 1px rgba(0, 0, 0, 0.15);\n",
              "      filter: drop-shadow(0px 1px 2px rgba(0, 0, 0, 0.3));\n",
              "      fill: #FFFFFF;\n",
              "    }\n",
              "  </style>\n",
              "\n",
              "      <script>\n",
              "        const buttonEl =\n",
              "          document.querySelector('#df-3fef3fb8-dc3b-4ea8-bfcd-9b997325f320 button.colab-df-convert');\n",
              "        buttonEl.style.display =\n",
              "          google.colab.kernel.accessAllowed ? 'block' : 'none';\n",
              "\n",
              "        async function convertToInteractive(key) {\n",
              "          const element = document.querySelector('#df-3fef3fb8-dc3b-4ea8-bfcd-9b997325f320');\n",
              "          const dataTable =\n",
              "            await google.colab.kernel.invokeFunction('convertToInteractive',\n",
              "                                                     [key], {});\n",
              "          if (!dataTable) return;\n",
              "\n",
              "          const docLinkHtml = 'Like what you see? Visit the ' +\n",
              "            '<a target=\"_blank\" href=https://colab.research.google.com/notebooks/data_table.ipynb>data table notebook</a>'\n",
              "            + ' to learn more about interactive tables.';\n",
              "          element.innerHTML = '';\n",
              "          dataTable['output_type'] = 'display_data';\n",
              "          await google.colab.output.renderOutput(dataTable, element);\n",
              "          const docLink = document.createElement('div');\n",
              "          docLink.innerHTML = docLinkHtml;\n",
              "          element.appendChild(docLink);\n",
              "        }\n",
              "      </script>\n",
              "    </div>\n",
              "  </div>\n",
              "  "
            ]
          },
          "metadata": {},
          "execution_count": 43
        }
      ],
      "source": [
        "# Checking the count,std,etc on variables\n",
        "data_df.describe()"
      ]
    },
    {
      "cell_type": "code",
      "execution_count": 44,
      "metadata": {
        "colab": {
          "base_uri": "https://localhost:8080/"
        },
        "id": "f89_VbpSpdNI",
        "outputId": "9fb8ec88-b33d-4655-dab4-3e58635f3eac"
      },
      "outputs": [
        {
          "output_type": "execute_result",
          "data": {
            "text/plain": [
              "News_Theme\n",
              "sport            505\n",
              "business         503\n",
              "politics         403\n",
              "entertainment    369\n",
              "tech             347\n",
              "Name: count, dtype: int64"
            ]
          },
          "metadata": {},
          "execution_count": 44
        }
      ],
      "source": [
        "# Checking the valuecounts of dataset\n",
        "data= data_df['News_Theme'].value_counts()\n",
        "data"
      ]
    },
    {
      "cell_type": "code",
      "execution_count": 47,
      "metadata": {
        "colab": {
          "base_uri": "https://localhost:8080/",
          "height": 837
        },
        "id": "HaKkHEoxrGDC",
        "outputId": "29af81d5-701b-42eb-ddab-1e6369eec511"
      },
      "outputs": [
        {
          "output_type": "display_data",
          "data": {
            "text/plain": [
              "<Figure size 1000x1000 with 1 Axes>"
            ],
            "image/png": "[encoded data removed]"
          },
          "metadata": {}
        }
      ],
      "source": [
        "# understanding the different topic percentage through pie chart\n",
        "plt.figure(figsize = (10,10))\n",
        "plt.pie(data, autopct = '%0.2f%%' , labels = data.index)\n",
        "plt.title('News Topics %', size = 20)\n",
        "plt.show()"
      ]
    },
    {
      "cell_type": "code",
      "execution_count": 48,
      "metadata": {
        "colab": {
          "base_uri": "https://localhost:8080/",
          "height": 972
        },
        "id": "OTb41POWrNYM",
        "outputId": "7590e127-acaa-41ec-8d63-b6efa94926d9"
      },
      "outputs": [
        {
          "output_type": "display_data",
          "data": {
            "text/plain": [
              "<Figure size 1000x1000 with 1 Axes>"
            ],
            "image/png": "[encoded data removed]"
          },
          "metadata": {}
        }
      ],
      "source": [
        "# understanding though bar plot\n",
        "# define a list of colors for each topic\n",
        "colors = ['#1f77b4', '#ff7f0e', '#2ca02c', '#d62728', '#9467bd']\n",
        "\n",
        "plt.figure(figsize=(10, 10))\n",
        "plt.bar(data.index, data.values, color=colors)\n",
        "plt.title('News Topics %', size=20)\n",
        "plt.xlabel('Topic', size=15)\n",
        "plt.ylabel('Percentage', size=15)\n",
        "\n",
        "# add value labels to the bars\n",
        "for i, value in enumerate(data.values):\n",
        "  plt.text(i, value, f'{value:.2f}%', ha='center', va='bottom')\n",
        "\n",
        "plt.xticks(rotation=90)\n",
        "plt.show()\n"
      ]
    },
    {
      "cell_type": "markdown",
      "metadata": {
        "id": "7ddutJLXtILW"
      },
      "source": [
        "## **NLP Text Processing**"
      ]
    },
    {
      "cell_type": "code",
      "execution_count": 54,
      "metadata": {
        "colab": {
          "base_uri": "https://localhost:8080/",
          "height": 140
        },
        "id": "6m6Hnjn5rtb2",
        "outputId": "a68a1ace-e564-4e49-d924-6f73498e29a0"
      },
      "outputs": [
        {
          "output_type": "execute_result",
          "data": {
            "text/plain": [
              "'Ad sales boost Time Warner profit\\n\\nQuarterly profits at US media giant TimeWarner jumped 76% to $1.13bn (Â£600m) for the three months to December, from $639m year-earlier.\\n\\nThe firm, which is now one of the biggest investors in Google, benefited from sales of high-speed internet connections and higher advert sales. TimeWarner said fourth quarter sales rose 2% to $11.1bn from $10.9bn. Its profits were buoyed by one-off gains which offset a profit dip at Warner Bros, and less users for AOL.\\n\\nTime Warner said on Friday that it now owns 8% of search-engine Google. But its own internet business, AOL, had has mixed fortunes. It lost 464,000 subscribers in the fourth quarter profits were lower than in the preceding three quarters. However, the company said AOL\\'s underlying profit before exceptional items rose 8% on the back of stronger internet advertising revenues. It hopes to increase subscribers by offering the online service free to TimeWarner internet customers and will try to sign up AOL\\'s existing customers for high-speed broadband. TimeWarner also has to restate 2000 and 2003 results following a probe by the US Securities Exchange Commission (SEC), which is close to concluding.\\n\\nTime Warner\\'s fourth quarter profits were slightly better than analysts\\' expectations. But its film division saw profits slump 27% to $284m, helped by box-office flops Alexander and Catwoman, a sharp contrast to year-earlier, when the third and final film in the Lord of the Rings trilogy boosted results. For the full-year, TimeWarner posted a profit of $3.36bn, up 27% from its 2003 performance, while revenues grew 6.4% to $42.09bn. \"Our financial performance was strong, meeting or exceeding all of our full-year objectives and greatly enhancing our flexibility,\" chairman and chief executive Richard Parsons said. For 2005, TimeWarner is projecting operating earnings growth of around 5%, and also expects higher revenue and wider profit margins.\\n\\nTimeWarner is to restate its accounts as part of efforts to resolve an inquiry into AOL by US market regulators. It has already offered to pay $300m to settle charges, in a deal that is under review by the SEC. The company said it was unable to estimate the amount it needed to set aside for legal reserves, which it previously set at $500m. It intends to adjust the way it accounts for a deal with German music publisher Bertelsmann\\'s purchase of a stake in AOL Europe, which it had reported as advertising revenue. It will now book the sale of its stake in AOL Europe as a loss on the value of that stake.\\n'"
            ],
            "application/vnd.google.colaboratory.intrinsic+json": {
              "type": "string"
            }
          },
          "metadata": {},
          "execution_count": 54
        }
      ],
      "source": [
        "# viewing the data in news_text column\n",
        "data_df['News_text'][0]"
      ]
    },
    {
      "cell_type": "code",
      "execution_count": 55,
      "metadata": {
        "id": "G35wTR7DyBl_"
      },
      "outputs": [],
      "source": [
        " # Getting data from any html tags if present\n",
        "data_df['News_text'] = [BeautifulSoup(k).get_text() for k in data_df['News_text'] ]"
      ]
    },
    {
      "cell_type": "code",
      "execution_count": 56,
      "metadata": {
        "id": "4OvZB81ezSLm"
      },
      "outputs": [],
      "source": [
        "# Removing any urls present\n",
        "data_df['News_text'] = [re.sub(r'https?://\\S+|www\\.\\S+', '', k1) for k1 in data_df['News_text']]"
      ]
    },
    {
      "cell_type": "code",
      "execution_count": 57,
      "metadata": {
        "colab": {
          "base_uri": "https://localhost:8080/"
        },
        "id": "FK30BJn1zp1X",
        "outputId": "084794dd-91ee-4815-dadc-75e25482c907"
      },
      "outputs": [
        {
          "output_type": "execute_result",
          "data": {
            "text/plain": [
              "0       Ad sales boost Time Warner profit\\n\\nQuarterly...\n",
              "1       Dollar gains on Greenspan speech\\n\\nThe dollar...\n",
              "2       Yukos unit buyer faces loan claim\\n\\nThe owner...\n",
              "3       High fuel prices hit BA's profits\\n\\nBritish A...\n",
              "4       Pernod takeover talk lifts Domecq\\n\\nShares in...\n",
              "                              ...                        \n",
              "2219    New consoles promise big problems\\n\\nMaking ga...\n",
              "2220    BT program to beat dialler scams\\n\\nBT is intr...\n",
              "2222    Be careful how you code\\n\\nA new European dire...\n",
              "2223    US cyber security chief resigns\\n\\nThe man mak...\n",
              "2224    Losing yourself in online gaming\\n\\nOnline rol...\n",
              "Name: News_text, Length: 2127, dtype: object"
            ]
          },
          "metadata": {},
          "execution_count": 57
        }
      ],
      "source": [
        "# Checking the data after this processing\n",
        "data_df['News_text']"
      ]
    },
    {
      "cell_type": "code",
      "execution_count": 58,
      "metadata": {
        "colab": {
          "base_uri": "https://localhost:8080/",
          "height": 140
        },
        "id": "oKInCQmIz6Eu",
        "outputId": "fdfc3117-4a91-427b-8f98-819e45600040"
      },
      "outputs": [
        {
          "output_type": "execute_result",
          "data": {
            "text/plain": [
              "\"Pernod takeover talk lifts Domecq\\n\\nShares in UK drinks and food firm Allied Domecq have risen on speculation that it could be the target of a takeover by France's Pernod Ricard.\\n\\nReports in the Wall Street Journal and the Financial Times suggested that the French spirits firm is considering a bid, but has yet to contact its target. Allied Domecq shares in London rose 4% by 1200 GMT, while Pernod shares in Paris slipped 1.2%. Pernod said it was seeking acquisitions but refused to comment on specifics.\\n\\nPernod's last major purchase was a third of US giant Seagram in 2000, the move which propelled it into the global top three of drinks firms. The other two-thirds of Seagram was bought by market leader Diageo. In terms of market value, Pernod - at 7.5bn euros ($9.7bn) - is about 9% smaller than Allied Domecq, which has a capitalisation of Â£5.7bn ($10.7bn; 8.2bn euros). Last year Pernod tried to buy Glenmorangie, one of Scotland's premier whisky firms, but lost out to luxury goods firm LVMH. Pernod is home to brands including Chivas Regal Scotch whisky, Havana Club rum and Jacob's Creek wine. Allied Domecq's big names include Malibu rum, Courvoisier brandy, Stolichnaya vodka and Ballantine's whisky - as well as snack food chains such as Dunkin' Donuts and Baskin-Robbins ice cream. The WSJ said that the two were ripe for consolidation, having each dealt with problematic parts of their portfolio. Pernod has reduced the debt it took on to fund the Seagram purchase to just 1.8bn euros, while Allied has improved the performance of its fast-food chains.\\n\""
            ],
            "application/vnd.google.colaboratory.intrinsic+json": {
              "type": "string"
            }
          },
          "metadata": {},
          "execution_count": 58
        }
      ],
      "source": [
        "data_df['News_text'][4]"
      ]
    },
    {
      "cell_type": "markdown",
      "metadata": {
        "id": "u8MprvgF1E0K"
      },
      "source": [
        "**Removing Non-Word Characters**"
      ]
    },
    {
      "cell_type": "code",
      "execution_count": 59,
      "metadata": {
        "id": "nm9mG9km0LHi"
      },
      "outputs": [],
      "source": [
        "# Replacing 'b\\' character with ''\n",
        "data_df['News_text']=[re.sub(\"b\\' \",\"\", k2) for k2 in data_df['News_text']]"
      ]
    },
    {
      "cell_type": "code",
      "execution_count": 60,
      "metadata": {
        "colab": {
          "base_uri": "https://localhost:8080/",
          "height": 140
        },
        "id": "4eabPKTV2dKp",
        "outputId": "e2af9a4b-b3fd-41bf-b464-a38850a1d16d"
      },
      "outputs": [
        {
          "output_type": "execute_result",
          "data": {
            "text/plain": [
              "'High fuel prices hit BA\\'s profits\\n\\nBritish Airways has blamed high fuel prices for a 40% drop in profits.\\n\\nReporting its results for the three months to 31 December 2004, the airline made a pre-tax profit of £75m ($141m) compared with £125m a year earlier. Rod Eddington, BA\\'s chief executive, said the results were \"respectable\" in a third quarter when fuel costs rose by £106m or 47.3%. BA\\'s profits were still better than market expectation of £59m, and it expects a rise in full-year revenues.\\n\\nTo help offset the increased price of aviation fuel, BA last year introduced a fuel surcharge for passengers.\\n\\nIn October, it increased this from £6 to £10 one-way for all long-haul flights, while the short-haul surcharge was raised from £2.50 to £4 a leg. Yet aviation analyst Mike Powell of Dresdner Kleinwort Wasserstein says BA\\'s estimated annual surcharge revenues - £160m - will still be way short of its additional fuel costs - a predicted extra £250m. Turnover for the quarter was up 4.3% to £1.97bn, further benefiting from a rise in cargo revenue. Looking ahead to its full year results to March 2005, BA warned that yields - average revenues per passenger - were expected to decline as it continues to lower prices in the face of competition from low-cost carriers. However, it said sales would be better than previously forecast. \"For the year to March 2005, the total revenue outlook is slightly better than previous guidance with a 3% to 3.5% improvement anticipated,\" BA chairman Martin Broughton said. BA had previously forecast a 2% to 3% rise in full-year revenue.\\n\\nIt also reported on Friday that passenger numbers rose 8.1% in January. Aviation analyst Nick Van den Brul of BNP Paribas described BA\\'s latest quarterly results as \"pretty modest\". \"It is quite good on the revenue side and it shows the impact of fuel surcharges and a positive cargo development, however, operating margins down and cost impact of fuel are very strong,\" he said. Since the 11 September 2001 attacks in the United States, BA has cut 13,000 jobs as part of a major cost-cutting drive. \"Our focus remains on reducing controllable costs and debt whilst continuing to invest in our products,\" Mr Eddington said. \"For example, we have taken delivery of six Airbus A321 aircraft and next month we will start further improvements to our Club World flat beds.\" BA\\'s shares closed up four pence at 274.5 pence.\\n'"
            ],
            "application/vnd.google.colaboratory.intrinsic+json": {
              "type": "string"
            }
          },
          "metadata": {},
          "execution_count": 60
        }
      ],
      "source": [
        "data_df['News_text'][3]"
      ]
    },
    {
      "cell_type": "code",
      "execution_count": 61,
      "metadata": {
        "colab": {
          "base_uri": "https://localhost:8080/"
        },
        "id": "gbo1kE6G3S6h",
        "outputId": "fcf79d59-cbaf-49fe-8652-910f61ea60bc"
      },
      "outputs": [
        {
          "output_type": "execute_result",
          "data": {
            "text/plain": [
              "b'High fuel prices hit BA\\'s profits\\n\\nBritish Airways has blamed high fuel prices for a 40% drop in profits.\\n\\nReporting its results for the three months to 31 December 2004, the airline made a pre-tax profit of \\xc2\\xa375m ($141m) compared with \\xc2\\xa3125m a year earlier. Rod Eddington, BA\\'s chief executive, said the results were \"respectable\" in a third quarter when fuel costs rose by \\xc2\\xa3106m or 47.3%. BA\\'s profits were still better than market expectation of \\xc2\\xa359m, and it expects a rise in full-year revenues.\\n\\nTo help offset the increased price of aviation fuel, BA last year introduced a fuel surcharge for passengers.\\n\\nIn October, it increased this from \\xc2\\xa36 to \\xc2\\xa310 one-way for all long-haul flights, while the short-haul surcharge was raised from \\xc2\\xa32.50 to \\xc2\\xa34 a leg. Yet aviation analyst Mike Powell of Dresdner Kleinwort Wasserstein says BA\\'s estimated annual surcharge revenues - \\xc2\\xa3160m - will still be way short of its additional fuel costs - a predicted extra \\xc2\\xa3250m. Turnover for the quarter was up 4.3% to \\xc2\\xa31.97bn, further benefiting from a rise in cargo revenue. Looking ahead to its full year results to March 2005, BA warned that yields - average revenues per passenger - were expected to decline as it continues to lower prices in the face of competition from low-cost carriers. However, it said sales would be better than previously forecast. \"For the year to March 2005, the total revenue outlook is slightly better than previous guidance with a 3% to 3.5% improvement anticipated,\" BA chairman Martin Broughton said. BA had previously forecast a 2% to 3% rise in full-year revenue.\\n\\nIt also reported on Friday that passenger numbers rose 8.1% in January. Aviation analyst Nick Van den Brul of BNP Paribas described BA\\'s latest quarterly results as \"pretty modest\". \"It is quite good on the revenue side and it shows the impact of fuel surcharges and a positive cargo development, however, operating margins down and cost impact of fuel are very strong,\" he said. Since the 11 September 2001 attacks in the United States, BA has cut 13,000 jobs as part of a major cost-cutting drive. \"Our focus remains on reducing controllable costs and debt whilst continuing to invest in our products,\" Mr Eddington said. \"For example, we have taken delivery of six Airbus A321 aircraft and next month we will start further improvements to our Club World flat beds.\" BA\\'s shares closed up four pence at 274.5 pence.\\n'"
            ]
          },
          "metadata": {},
          "execution_count": 61
        }
      ],
      "source": [
        "# Before cleaning ,so we checked how our data looks before nad after\n",
        "news_data['News_text'][3]"
      ]
    },
    {
      "cell_type": "code",
      "source": [
        "data_df['News_text'] = [re.sub(r\"\\\\n\\\\n\", \" \",k3) for k3 in data_df['News_text']]             #Replacing other non-word characters\n",
        "data_df['News_text'] = [re.sub(r\"\\\\\\'s\", \" \",k4) for k4 in data_df['News_text']] \n",
        "data_df['News_text'] = [re.sub(r\"\\\\\\'\", \" \", k5) for k5 in data_df['News_text']]\n",
        "data_df['News_text'] = [re.sub(r\"\\\\n\\'\", \" \", k6) for k6 in data_df['News_text']]\n",
        "data_df['News_text'] = [re.sub(r\"\\n\\n\", \" \", k7) for k7 in data_df['News_text']]\n",
        "data_df['News_text'] = [re.sub(r'\\\\xc2\\\\xa3','\\xA3', k8) for k8 in data_df['News_text']]       # \"\\xA3\" is unicode for symbol pound(£)   \n",
        "data_df['News_text'] = [re.sub(r\"\\'s\",'', k9) for k9 in data_df['News_text']] \n",
        "data_df['News_text'] = [re.sub(r'\\\\n\"','', k10) for k10 in data_df['News_text']] \n",
        "data_df['News_text'] = [re.sub(r'b\"','', k11) for k11 in data_df['News_text']] \n",
        "data_df['News_text'] = [re.sub(r'\\n','', k12) for k12 in data_df['News_text']]"
      ],
      "metadata": {
        "id": "wuvnQx1isiFf"
      },
      "execution_count": 65,
      "outputs": []
    },
    {
      "cell_type": "code",
      "source": [
        "# Checking the data after removing\n",
        "data_df['News_text'][5]"
      ],
      "metadata": {
        "colab": {
          "base_uri": "https://localhost:8080/",
          "height": 140
        },
        "id": "Xzyx60mluf7x",
        "outputId": "a031050d-78fd-428a-aa7f-cbbcd58adc86"
      },
      "execution_count": 66,
      "outputs": [
        {
          "output_type": "execute_result",
          "data": {
            "text/plain": [
              "'Japan narrowly escapes recession Japan economy teetered on the brink of a technical recession in the three months to September, figures show. Revised figures indicated growth of just 0.1% - and a similar-sized contraction in the previous quarter. On an annual basis, the data suggests annual growth of just 0.2%, suggesting a much more hesitant recovery than had previously been thought. A common technical definition of a recession is two successive quarters of negative growth. The government was keen to play down the worrying implications of the data. \"I maintain the view that Japan economy remains in a minor adjustment phase in an upward climb, and we will monitor developments carefully,\" said economy minister Heizo Takenaka. But in the face of the strengthening yen making exports less competitive and indications of weakening economic conditions ahead, observers were less sanguine. \"It painting a picture of a recovery... much patchier than previously thought,\" said Paul Sheard, economist at Lehman Brothers in Tokyo. Improvements in the job market apparently have yet to feed through to domestic demand, with private consumption up just 0.2% in the third quarter.'"
            ],
            "application/vnd.google.colaboratory.intrinsic+json": {
              "type": "string"
            }
          },
          "metadata": {},
          "execution_count": 66
        }
      ]
    },
    {
      "cell_type": "code",
      "source": [
        "# Checking the data before removing\n",
        "news_data['News_text'][5]"
      ],
      "metadata": {
        "colab": {
          "base_uri": "https://localhost:8080/"
        },
        "id": "KngTUUuRuz9r",
        "outputId": "5fe06af4-921a-456a-fa94-60e498e14211"
      },
      "execution_count": 67,
      "outputs": [
        {
          "output_type": "execute_result",
          "data": {
            "text/plain": [
              "b'Japan narrowly escapes recession\\n\\nJapan\\'s economy teetered on the brink of a technical recession in the three months to September, figures show.\\n\\nRevised figures indicated growth of just 0.1% - and a similar-sized contraction in the previous quarter. On an annual basis, the data suggests annual growth of just 0.2%, suggesting a much more hesitant recovery than had previously been thought. A common technical definition of a recession is two successive quarters of negative growth.\\n\\nThe government was keen to play down the worrying implications of the data. \"I maintain the view that Japan\\'s economy remains in a minor adjustment phase in an upward climb, and we will monitor developments carefully,\" said economy minister Heizo Takenaka. But in the face of the strengthening yen making exports less competitive and indications of weakening economic conditions ahead, observers were less sanguine. \"It\\'s painting a picture of a recovery... much patchier than previously thought,\" said Paul Sheard, economist at Lehman Brothers in Tokyo. Improvements in the job market apparently have yet to feed through to domestic demand, with private consumption up just 0.2% in the third quarter.\\n'"
            ]
          },
          "metadata": {},
          "execution_count": 67
        }
      ]
    },
    {
      "cell_type": "markdown",
      "source": [
        "### Creating a function to remove punctuations"
      ],
      "metadata": {
        "id": "AwsQfkLHsQk-"
      }
    },
    {
      "cell_type": "code",
      "execution_count": 68,
      "metadata": {
        "id": "oghCoz0M4pBX"
      },
      "outputs": [],
      "source": [
        "# Creating a function to remove punctuations from our dataset\n",
        "def remove_punctuation(text):\n",
        "  ''' a function to remove  punctuation '''\n",
        "  import string # replacing the punctuations with no space which in effect deletes the punctuation marks \n",
        "  translator = str.maketrans('','',string.punctuation)\n",
        "  return text.translate(translator)"
      ]
    },
    {
      "cell_type": "code",
      "execution_count": 69,
      "metadata": {
        "colab": {
          "base_uri": "https://localhost:8080/",
          "height": 140
        },
        "id": "Y956VG4s8DQz",
        "outputId": "0a038563-ccae-4640-d79d-fb76b410a911"
      },
      "outputs": [
        {
          "output_type": "execute_result",
          "data": {
            "text/plain": [
              "'Japan narrowly escapes recession Japan economy teetered on the brink of a technical recession in the three months to September figures show Revised figures indicated growth of just 01  and a similarsized contraction in the previous quarter On an annual basis the data suggests annual growth of just 02 suggesting a much more hesitant recovery than had previously been thought A common technical definition of a recession is two successive quarters of negative growth The government was keen to play down the worrying implications of the data I maintain the view that Japan economy remains in a minor adjustment phase in an upward climb and we will monitor developments carefully said economy minister Heizo Takenaka But in the face of the strengthening yen making exports less competitive and indications of weakening economic conditions ahead observers were less sanguine It painting a picture of a recovery much patchier than previously thought said Paul Sheard economist at Lehman Brothers in Tokyo Improvements in the job market apparently have yet to feed through to domestic demand with private consumption up just 02 in the third quarter'"
            ],
            "application/vnd.google.colaboratory.intrinsic+json": {
              "type": "string"
            }
          },
          "metadata": {},
          "execution_count": 69
        }
      ],
      "source": [
        "data_df['News_text']=data_df['News_text'].apply(remove_punctuation)\n",
        "data_df['News_text'][5]"
      ]
    },
    {
      "cell_type": "markdown",
      "source": [
        "lowercasing the dataset"
      ],
      "metadata": {
        "id": "j722ZLRkvTkD"
      }
    },
    {
      "cell_type": "code",
      "source": [
        "data_df['News_text']=[l.lower() for l in data_df['News_text']]\n",
        "data_df[\"News_text\"][5]"
      ],
      "metadata": {
        "colab": {
          "base_uri": "https://localhost:8080/",
          "height": 140
        },
        "id": "NbXCutucvq2S",
        "outputId": "d89c5947-0a72-44b8-8c19-71baaba7bcd5"
      },
      "execution_count": 70,
      "outputs": [
        {
          "output_type": "execute_result",
          "data": {
            "text/plain": [
              "'japan narrowly escapes recession japan economy teetered on the brink of a technical recession in the three months to september figures show revised figures indicated growth of just 01  and a similarsized contraction in the previous quarter on an annual basis the data suggests annual growth of just 02 suggesting a much more hesitant recovery than had previously been thought a common technical definition of a recession is two successive quarters of negative growth the government was keen to play down the worrying implications of the data i maintain the view that japan economy remains in a minor adjustment phase in an upward climb and we will monitor developments carefully said economy minister heizo takenaka but in the face of the strengthening yen making exports less competitive and indications of weakening economic conditions ahead observers were less sanguine it painting a picture of a recovery much patchier than previously thought said paul sheard economist at lehman brothers in tokyo improvements in the job market apparently have yet to feed through to domestic demand with private consumption up just 02 in the third quarter'"
            ],
            "application/vnd.google.colaboratory.intrinsic+json": {
              "type": "string"
            }
          },
          "metadata": {},
          "execution_count": 70
        }
      ]
    },
    {
      "cell_type": "markdown",
      "source": [
        "Removing the numbers if present in our dataset"
      ],
      "metadata": {
        "id": "ukdIejhawSuE"
      }
    },
    {
      "cell_type": "code",
      "source": [
        "data_df['News_text']=[re.sub(r'\\d+','',d1) for d1 in data_df['News_text']]\n",
        "data_df['News_text'][5]"
      ],
      "metadata": {
        "colab": {
          "base_uri": "https://localhost:8080/",
          "height": 140
        },
        "id": "E6_RF5OzwLaW",
        "outputId": "87ea9010-6890-4465-cdd6-59d05e24cc77"
      },
      "execution_count": 71,
      "outputs": [
        {
          "output_type": "execute_result",
          "data": {
            "text/plain": [
              "'japan narrowly escapes recession japan economy teetered on the brink of a technical recession in the three months to september figures show revised figures indicated growth of just   and a similarsized contraction in the previous quarter on an annual basis the data suggests annual growth of just  suggesting a much more hesitant recovery than had previously been thought a common technical definition of a recession is two successive quarters of negative growth the government was keen to play down the worrying implications of the data i maintain the view that japan economy remains in a minor adjustment phase in an upward climb and we will monitor developments carefully said economy minister heizo takenaka but in the face of the strengthening yen making exports less competitive and indications of weakening economic conditions ahead observers were less sanguine it painting a picture of a recovery much patchier than previously thought said paul sheard economist at lehman brothers in tokyo improvements in the job market apparently have yet to feed through to domestic demand with private consumption up just  in the third quarter'"
            ],
            "application/vnd.google.colaboratory.intrinsic+json": {
              "type": "string"
            }
          },
          "metadata": {},
          "execution_count": 71
        }
      ]
    },
    {
      "cell_type": "markdown",
      "source": [
        "## Removing stopwords"
      ],
      "metadata": {
        "id": "evjOVJHGxC-s"
      }
    },
    {
      "cell_type": "code",
      "source": [
        "# Extracting the stopwords from nltk library\n",
        "sw = stopwords.words('english')\n",
        "# displaying the stopwords\n",
        "np.array(sw)"
      ],
      "metadata": {
        "colab": {
          "base_uri": "https://localhost:8080/"
        },
        "id": "nImmwejYyrPh",
        "outputId": "516279b5-db4e-4155-a333-0f2e1ebc2a96"
      },
      "execution_count": 75,
      "outputs": [
        {
          "output_type": "execute_result",
          "data": {
            "text/plain": [
              "array(['i', 'me', 'my', 'myself', 'we', 'our', 'ours', 'ourselves', 'you',\n",
              "       \"you're\", \"you've\", \"you'll\", \"you'd\", 'your', 'yours', 'yourself',\n",
              "       'yourselves', 'he', 'him', 'his', 'himself', 'she', \"she's\", 'her',\n",
              "       'hers', 'herself', 'it', \"it's\", 'its', 'itself', 'they', 'them',\n",
              "       'their', 'theirs', 'themselves', 'what', 'which', 'who', 'whom',\n",
              "       'this', 'that', \"that'll\", 'these', 'those', 'am', 'is', 'are',\n",
              "       'was', 'were', 'be', 'been', 'being', 'have', 'has', 'had',\n",
              "       'having', 'do', 'does', 'did', 'doing', 'a', 'an', 'the', 'and',\n",
              "       'but', 'if', 'or', 'because', 'as', 'until', 'while', 'of', 'at',\n",
              "       'by', 'for', 'with', 'about', 'against', 'between', 'into',\n",
              "       'through', 'during', 'before', 'after', 'above', 'below', 'to',\n",
              "       'from', 'up', 'down', 'in', 'out', 'on', 'off', 'over', 'under',\n",
              "       'again', 'further', 'then', 'once', 'here', 'there', 'when',\n",
              "       'where', 'why', 'how', 'all', 'any', 'both', 'each', 'few', 'more',\n",
              "       'most', 'other', 'some', 'such', 'no', 'nor', 'not', 'only', 'own',\n",
              "       'same', 'so', 'than', 'too', 'very', 's', 't', 'can', 'will',\n",
              "       'just', 'don', \"don't\", 'should', \"should've\", 'now', 'd', 'll',\n",
              "       'm', 'o', 're', 've', 'y', 'ain', 'aren', \"aren't\", 'couldn',\n",
              "       \"couldn't\", 'didn', \"didn't\", 'doesn', \"doesn't\", 'hadn', \"hadn't\",\n",
              "       'hasn', \"hasn't\", 'haven', \"haven't\", 'isn', \"isn't\", 'ma',\n",
              "       'mightn', \"mightn't\", 'mustn', \"mustn't\", 'needn', \"needn't\",\n",
              "       'shan', \"shan't\", 'shouldn', \"shouldn't\", 'wasn', \"wasn't\",\n",
              "       'weren', \"weren't\", 'won', \"won't\", 'wouldn', \"wouldn't\"],\n",
              "      dtype='<U10')"
            ]
          },
          "metadata": {},
          "execution_count": 75
        }
      ]
    },
    {
      "cell_type": "code",
      "source": [
        "# Creating a function to remove stopwords\n",
        "def stopwords(text):\n",
        "    '''a function for removing the stopword'''\n",
        "    # removing the stop words and lowercasing the selected words\n",
        "    text = [word.lower() for word in text.split() if word.lower() not in sw]\n",
        "    # joining the list of words with space separator\n",
        "    return \" \".join(text)"
      ],
      "metadata": {
        "id": "N4zDo5-ww6Da"
      },
      "execution_count": 77,
      "outputs": []
    },
    {
      "cell_type": "code",
      "source": [
        "# applying the function to our dataset\n",
        "data_df['News_text'] = data_df['News_text'].apply(stopwords)\n",
        "data_df.head()"
      ],
      "metadata": {
        "colab": {
          "base_uri": "https://localhost:8080/",
          "height": 206
        },
        "id": "zir-eNeLzh_5",
        "outputId": "e3425810-2d7d-47ac-bca9-f2f9860dfa82"
      },
      "execution_count": 78,
      "outputs": [
        {
          "output_type": "execute_result",
          "data": {
            "text/plain": [
              "                                           News_text News_Theme\n",
              "0  ad sales boost time warner profit quarterly pr...   business\n",
              "1  dollar gains greenspan speech dollar hit highe...   business\n",
              "2  yukos unit buyer faces loan claim owners embat...   business\n",
              "3  high fuel prices hit ba profits british airway...   business\n",
              "4  pernod takeover talk lifts domecq shares uk dr...   business"
            ],
            "text/html": [
              "\n",
              "  <div id=\"df-814e59fe-13eb-486c-a8ed-93c9473177b7\">\n",
              "    <div class=\"colab-df-container\">\n",
              "      <div>\n",
              "<style scoped>\n",
              "    .dataframe tbody tr th:only-of-type {\n",
              "        vertical-align: middle;\n",
              "    }\n",
              "\n",
              "    .dataframe tbody tr th {\n",
              "        vertical-align: top;\n",
              "    }\n",
              "\n",
              "    .dataframe thead th {\n",
              "        text-align: right;\n",
              "    }\n",
              "</style>\n",
              "<table border=\"1\" class=\"dataframe\">\n",
              "  <thead>\n",
              "    <tr style=\"text-align: right;\">\n",
              "      <th></th>\n",
              "      <th>News_text</th>\n",
              "      <th>News_Theme</th>\n",
              "    </tr>\n",
              "  </thead>\n",
              "  <tbody>\n",
              "    <tr>\n",
              "      <th>0</th>\n",
              "      <td>ad sales boost time warner profit quarterly pr...</td>\n",
              "      <td>business</td>\n",
              "    </tr>\n",
              "    <tr>\n",
              "      <th>1</th>\n",
              "      <td>dollar gains greenspan speech dollar hit highe...</td>\n",
              "      <td>business</td>\n",
              "    </tr>\n",
              "    <tr>\n",
              "      <th>2</th>\n",
              "      <td>yukos unit buyer faces loan claim owners embat...</td>\n",
              "      <td>business</td>\n",
              "    </tr>\n",
              "    <tr>\n",
              "      <th>3</th>\n",
              "      <td>high fuel prices hit ba profits british airway...</td>\n",
              "      <td>business</td>\n",
              "    </tr>\n",
              "    <tr>\n",
              "      <th>4</th>\n",
              "      <td>pernod takeover talk lifts domecq shares uk dr...</td>\n",
              "      <td>business</td>\n",
              "    </tr>\n",
              "  </tbody>\n",
              "</table>\n",
              "</div>\n",
              "      <button class=\"colab-df-convert\" onclick=\"convertToInteractive('df-814e59fe-13eb-486c-a8ed-93c9473177b7')\"\n",
              "              title=\"Convert this dataframe to an interactive table.\"\n",
              "              style=\"display:none;\">\n",
              "        \n",
              "  <svg xmlns=\"http://www.w3.org/2000/svg\" height=\"24px\"viewBox=\"0 0 24 24\"\n",
              "       width=\"24px\">\n",
              "    <path d=\"M0 0h24v24H0V0z\" fill=\"none\"/>\n",
              "    <path d=\"M18.56 5.44l.94 2.06.94-2.06 2.06-.94-2.06-.94-.94-2.06-.94 2.06-2.06.94zm-11 1L8.5 8.5l.94-2.06 2.06-.94-2.06-.94L8.5 2.5l-.94 2.06-2.06.94zm10 10l.94 2.06.94-2.06 2.06-.94-2.06-.94-.94-2.06-.94 2.06-2.06.94z\"/><path d=\"M17.41 7.96l-1.37-1.37c-.4-.4-.92-.59-1.43-.59-.52 0-1.04.2-1.43.59L10.3 9.45l-7.72 7.72c-.78.78-.78 2.05 0 2.83L4 21.41c.39.39.9.59 1.41.59.51 0 1.02-.2 1.41-.59l7.78-7.78 2.81-2.81c.8-.78.8-2.07 0-2.86zM5.41 20L4 18.59l7.72-7.72 1.47 1.35L5.41 20z\"/>\n",
              "  </svg>\n",
              "      </button>\n",
              "      \n",
              "  <style>\n",
              "    .colab-df-container {\n",
              "      display:flex;\n",
              "      flex-wrap:wrap;\n",
              "      gap: 12px;\n",
              "    }\n",
              "\n",
              "    .colab-df-convert {\n",
              "      background-color: #E8F0FE;\n",
              "      border: none;\n",
              "      border-radius: 50%;\n",
              "      cursor: pointer;\n",
              "      display: none;\n",
              "      fill: #1967D2;\n",
              "      height: 32px;\n",
              "      padding: 0 0 0 0;\n",
              "      width: 32px;\n",
              "    }\n",
              "\n",
              "    .colab-df-convert:hover {\n",
              "      background-color: #E2EBFA;\n",
              "      box-shadow: 0px 1px 2px rgba(60, 64, 67, 0.3), 0px 1px 3px 1px rgba(60, 64, 67, 0.15);\n",
              "      fill: #174EA6;\n",
              "    }\n",
              "\n",
              "    [theme=dark] .colab-df-convert {\n",
              "      background-color: #3B4455;\n",
              "      fill: #D2E3FC;\n",
              "    }\n",
              "\n",
              "    [theme=dark] .colab-df-convert:hover {\n",
              "      background-color: #434B5C;\n",
              "      box-shadow: 0px 1px 3px 1px rgba(0, 0, 0, 0.15);\n",
              "      filter: drop-shadow(0px 1px 2px rgba(0, 0, 0, 0.3));\n",
              "      fill: #FFFFFF;\n",
              "    }\n",
              "  </style>\n",
              "\n",
              "      <script>\n",
              "        const buttonEl =\n",
              "          document.querySelector('#df-814e59fe-13eb-486c-a8ed-93c9473177b7 button.colab-df-convert');\n",
              "        buttonEl.style.display =\n",
              "          google.colab.kernel.accessAllowed ? 'block' : 'none';\n",
              "\n",
              "        async function convertToInteractive(key) {\n",
              "          const element = document.querySelector('#df-814e59fe-13eb-486c-a8ed-93c9473177b7');\n",
              "          const dataTable =\n",
              "            await google.colab.kernel.invokeFunction('convertToInteractive',\n",
              "                                                     [key], {});\n",
              "          if (!dataTable) return;\n",
              "\n",
              "          const docLinkHtml = 'Like what you see? Visit the ' +\n",
              "            '<a target=\"_blank\" href=https://colab.research.google.com/notebooks/data_table.ipynb>data table notebook</a>'\n",
              "            + ' to learn more about interactive tables.';\n",
              "          element.innerHTML = '';\n",
              "          dataTable['output_type'] = 'display_data';\n",
              "          await google.colab.output.renderOutput(dataTable, element);\n",
              "          const docLink = document.createElement('div');\n",
              "          docLink.innerHTML = docLinkHtml;\n",
              "          element.appendChild(docLink);\n",
              "        }\n",
              "      </script>\n",
              "    </div>\n",
              "  </div>\n",
              "  "
            ]
          },
          "metadata": {},
          "execution_count": 78
        }
      ]
    },
    {
      "cell_type": "code",
      "source": [
        "data_df['News_text'].head()"
      ],
      "metadata": {
        "colab": {
          "base_uri": "https://localhost:8080/"
        },
        "id": "dHV_8skmz8jf",
        "outputId": "5b42ca67-385f-48c4-b45f-2bc0f602229e"
      },
      "execution_count": 84,
      "outputs": [
        {
          "output_type": "execute_result",
          "data": {
            "text/plain": [
              "0    [ad, sale, boost, time, warner, profit, quarte...\n",
              "1    [dollar, gain, greenspan, speech, dollar, hit,...\n",
              "2    [yukos, unit, buyer, face, loan, claim, owner,...\n",
              "3    [high, fuel, price, hit, ba, profit, british, ...\n",
              "4    [pernod, takeover, talk, lift, domecq, share, ...\n",
              "Name: News_text, dtype: object"
            ]
          },
          "metadata": {},
          "execution_count": 84
        }
      ]
    },
    {
      "cell_type": "code",
      "source": [
        "# visualize the results\n",
        "for i, text in enumerate(data_df['News_text'].head()):\n",
        "    print(f'Original {i}: {text}')\n",
        "    print(f'Filtered {i}: {stopwords(data_df[\"News_text\"][i])}\\n')"
      ],
      "metadata": {
        "colab": {
          "base_uri": "https://localhost:8080/"
        },
        "id": "y3xGCMCT0M7P",
        "outputId": "49b2e49a-a810-4352-dc8e-cf7c1515270f"
      },
      "execution_count": 80,
      "outputs": [
        {
          "output_type": "stream",
          "name": "stdout",
          "text": [
            "Original 0: ad sales boost time warner profit quarterly profits us media giant timewarner jumped bn â£m three months december yearearlier firm one biggest investors google benefited sales highspeed internet connections higher advert sales timewarner said fourth quarter sales rose bn bn profits buoyed oneoff gains offset profit dip warner bros less users aol time warner said friday owns searchengine google internet business aol mixed fortunes lost subscribers fourth quarter profits lower preceding three quarters however company said aol underlying profit exceptional items rose back stronger internet advertising revenues hopes increase subscribers offering online service free timewarner internet customers try sign aol existing customers highspeed broadband timewarner also restate results following probe us securities exchange commission sec close concluding time warner fourth quarter profits slightly better analysts expectations film division saw profits slump helped boxoffice flops alexander catwoman sharp contrast yearearlier third final film lord rings trilogy boosted results fullyear timewarner posted profit bn performance revenues grew bn financial performance strong meeting exceeding fullyear objectives greatly enhancing flexibility chairman chief executive richard parsons said timewarner projecting operating earnings growth around also expects higher revenue wider profit margins timewarner restate accounts part efforts resolve inquiry aol us market regulators already offered pay settle charges deal review sec company said unable estimate amount needed set aside legal reserves previously set intends adjust way accounts deal german music publisher bertelsmann purchase stake aol europe reported advertising revenue book sale stake aol europe loss value stake\n",
            "Filtered 0: ad sales boost time warner profit quarterly profits us media giant timewarner jumped bn â£m three months december yearearlier firm one biggest investors google benefited sales highspeed internet connections higher advert sales timewarner said fourth quarter sales rose bn bn profits buoyed oneoff gains offset profit dip warner bros less users aol time warner said friday owns searchengine google internet business aol mixed fortunes lost subscribers fourth quarter profits lower preceding three quarters however company said aol underlying profit exceptional items rose back stronger internet advertising revenues hopes increase subscribers offering online service free timewarner internet customers try sign aol existing customers highspeed broadband timewarner also restate results following probe us securities exchange commission sec close concluding time warner fourth quarter profits slightly better analysts expectations film division saw profits slump helped boxoffice flops alexander catwoman sharp contrast yearearlier third final film lord rings trilogy boosted results fullyear timewarner posted profit bn performance revenues grew bn financial performance strong meeting exceeding fullyear objectives greatly enhancing flexibility chairman chief executive richard parsons said timewarner projecting operating earnings growth around also expects higher revenue wider profit margins timewarner restate accounts part efforts resolve inquiry aol us market regulators already offered pay settle charges deal review sec company said unable estimate amount needed set aside legal reserves previously set intends adjust way accounts deal german music publisher bertelsmann purchase stake aol europe reported advertising revenue book sale stake aol europe loss value stake\n",
            "\n",
            "Original 1: dollar gains greenspan speech dollar hit highest level euro almost three months federal reserve head said us trade deficit set stabilise alan greenspan highlighted us government willingness curb spending rising household savings factors may help reduce late trading new york dollar reached euro thursday market concerns deficit hit greenback recent months friday federal reserve chairman mr greenspan speech london ahead meeting g finance ministers sent dollar higher earlier tumbled back worsethanexpected us jobs data think chairman taking much sanguine view current account deficit taken time said robert sinche head currency strategy bank america new york taking longerterm view laying set conditions current account deficit improve year next worries deficit concerns china however remain china currency remains pegged dollar us currency sharp falls recent months therefore made chinese export prices highly competitive calls shift beijing policy fallen deaf ears despite recent comments major chinese newspaper time ripe loosening peg g meeting thought unlikely produce meaningful movement chinese policy meantime us federal reserve decision february boost interest rates quarter point sixth move many months opened differential european rates halfpoint window believe could enough keep us assets looking attractive could help prop dollar recent falls partly result big budget deficits well us yawning current account gap need funded buying us bonds assets foreign firms governments white house announce budget monday many commentators believe deficit remain close half trillion dollars\n",
            "Filtered 1: dollar gains greenspan speech dollar hit highest level euro almost three months federal reserve head said us trade deficit set stabilise alan greenspan highlighted us government willingness curb spending rising household savings factors may help reduce late trading new york dollar reached euro thursday market concerns deficit hit greenback recent months friday federal reserve chairman mr greenspan speech london ahead meeting g finance ministers sent dollar higher earlier tumbled back worsethanexpected us jobs data think chairman taking much sanguine view current account deficit taken time said robert sinche head currency strategy bank america new york taking longerterm view laying set conditions current account deficit improve year next worries deficit concerns china however remain china currency remains pegged dollar us currency sharp falls recent months therefore made chinese export prices highly competitive calls shift beijing policy fallen deaf ears despite recent comments major chinese newspaper time ripe loosening peg g meeting thought unlikely produce meaningful movement chinese policy meantime us federal reserve decision february boost interest rates quarter point sixth move many months opened differential european rates halfpoint window believe could enough keep us assets looking attractive could help prop dollar recent falls partly result big budget deficits well us yawning current account gap need funded buying us bonds assets foreign firms governments white house announce budget monday many commentators believe deficit remain close half trillion dollars\n",
            "\n",
            "Original 2: yukos unit buyer faces loan claim owners embattled russian oil giant yukos ask buyer former production unit pay back â£m loan stateowned rosneft bought yugansk unit bn sale forced russia part settle bn tax claim yukos yukos owner menatep group says ask rosneft repay loan yugansk secured assets rosneft already faces similar repayment demand foreign banks legal experts said rosneft purchase yugansk would include obligations pledged assets rosneft pay real money creditors avoid seizure yugansk assets said moscowbased us lawyer jamie firestone connected case menatep group managing director tim osborne told reuters news agency default fight rule law exists international arbitration clauses credit rosneft officials unavailable comment company said intends take action menatep recover tax claims debts owed yugansk yukos filed bankruptcy protection us court attempt prevent forced sale main production arm sale went ahead december yugansk sold littleknown shell company turn bought rosneft yukos claims downfall punishment political ambitions founder mikhail khodorkovsky vowed sue participant sale\n",
            "Filtered 2: yukos unit buyer faces loan claim owners embattled russian oil giant yukos ask buyer former production unit pay back â£m loan stateowned rosneft bought yugansk unit bn sale forced russia part settle bn tax claim yukos yukos owner menatep group says ask rosneft repay loan yugansk secured assets rosneft already faces similar repayment demand foreign banks legal experts said rosneft purchase yugansk would include obligations pledged assets rosneft pay real money creditors avoid seizure yugansk assets said moscowbased us lawyer jamie firestone connected case menatep group managing director tim osborne told reuters news agency default fight rule law exists international arbitration clauses credit rosneft officials unavailable comment company said intends take action menatep recover tax claims debts owed yugansk yukos filed bankruptcy protection us court attempt prevent forced sale main production arm sale went ahead december yugansk sold littleknown shell company turn bought rosneft yukos claims downfall punishment political ambitions founder mikhail khodorkovsky vowed sue participant sale\n",
            "\n",
            "Original 3: high fuel prices hit ba profits british airways blamed high fuel prices drop profits reporting results three months december airline made pretax profit £m compared £m year earlier rod eddington ba chief executive said results respectable third quarter fuel costs rose £m ba profits still better market expectation £m expects rise fullyear revenues help offset increased price aviation fuel ba last year introduced fuel surcharge passengers october increased £ £ oneway longhaul flights shorthaul surcharge raised £ £ leg yet aviation analyst mike powell dresdner kleinwort wasserstein says ba estimated annual surcharge revenues £m still way short additional fuel costs predicted extra £m turnover quarter £bn benefiting rise cargo revenue looking ahead full year results march ba warned yields average revenues per passenger expected decline continues lower prices face competition lowcost carriers however said sales would better previously forecast year march total revenue outlook slightly better previous guidance improvement anticipated ba chairman martin broughton said ba previously forecast rise fullyear revenue also reported friday passenger numbers rose january aviation analyst nick van den brul bnp paribas described ba latest quarterly results pretty modest quite good revenue side shows impact fuel surcharges positive cargo development however operating margins cost impact fuel strong said since september attacks united states ba cut jobs part major costcutting drive focus remains reducing controllable costs debt whilst continuing invest products mr eddington said example taken delivery six airbus aircraft next month start improvements club world flat beds ba shares closed four pence pence\n",
            "Filtered 3: high fuel prices hit ba profits british airways blamed high fuel prices drop profits reporting results three months december airline made pretax profit £m compared £m year earlier rod eddington ba chief executive said results respectable third quarter fuel costs rose £m ba profits still better market expectation £m expects rise fullyear revenues help offset increased price aviation fuel ba last year introduced fuel surcharge passengers october increased £ £ oneway longhaul flights shorthaul surcharge raised £ £ leg yet aviation analyst mike powell dresdner kleinwort wasserstein says ba estimated annual surcharge revenues £m still way short additional fuel costs predicted extra £m turnover quarter £bn benefiting rise cargo revenue looking ahead full year results march ba warned yields average revenues per passenger expected decline continues lower prices face competition lowcost carriers however said sales would better previously forecast year march total revenue outlook slightly better previous guidance improvement anticipated ba chairman martin broughton said ba previously forecast rise fullyear revenue also reported friday passenger numbers rose january aviation analyst nick van den brul bnp paribas described ba latest quarterly results pretty modest quite good revenue side shows impact fuel surcharges positive cargo development however operating margins cost impact fuel strong said since september attacks united states ba cut jobs part major costcutting drive focus remains reducing controllable costs debt whilst continuing invest products mr eddington said example taken delivery six airbus aircraft next month start improvements club world flat beds ba shares closed four pence pence\n",
            "\n",
            "Original 4: pernod takeover talk lifts domecq shares uk drinks food firm allied domecq risen speculation could target takeover france pernod ricard reports wall street journal financial times suggested french spirits firm considering bid yet contact target allied domecq shares london rose gmt pernod shares paris slipped pernod said seeking acquisitions refused comment specifics pernod last major purchase third us giant seagram move propelled global top three drinks firms twothirds seagram bought market leader diageo terms market value pernod bn euros bn smaller allied domecq capitalisation â£bn bn bn euros last year pernod tried buy glenmorangie one scotland premier whisky firms lost luxury goods firm lvmh pernod home brands including chivas regal scotch whisky havana club rum jacob creek wine allied domecq big names include malibu rum courvoisier brandy stolichnaya vodka ballantine whisky well snack food chains dunkin donuts baskinrobbins ice cream wsj said two ripe consolidation dealt problematic parts portfolio pernod reduced debt took fund seagram purchase bn euros allied improved performance fastfood chains\n",
            "Filtered 4: pernod takeover talk lifts domecq shares uk drinks food firm allied domecq risen speculation could target takeover france pernod ricard reports wall street journal financial times suggested french spirits firm considering bid yet contact target allied domecq shares london rose gmt pernod shares paris slipped pernod said seeking acquisitions refused comment specifics pernod last major purchase third us giant seagram move propelled global top three drinks firms twothirds seagram bought market leader diageo terms market value pernod bn euros bn smaller allied domecq capitalisation â£bn bn bn euros last year pernod tried buy glenmorangie one scotland premier whisky firms lost luxury goods firm lvmh pernod home brands including chivas regal scotch whisky havana club rum jacob creek wine allied domecq big names include malibu rum courvoisier brandy stolichnaya vodka ballantine whisky well snack food chains dunkin donuts baskinrobbins ice cream wsj said two ripe consolidation dealt problematic parts portfolio pernod reduced debt took fund seagram purchase bn euros allied improved performance fastfood chains\n",
            "\n"
          ]
        }
      ]
    },
    {
      "cell_type": "markdown",
      "source": [
        "##Lemmatization"
      ],
      "metadata": {
        "id": "rL2Rg8pe2LPq"
      }
    },
    {
      "cell_type": "code",
      "source": [
        "lemmatizer = WordNetLemmatizer() "
      ],
      "metadata": {
        "id": "uNJ8R0VH13QZ"
      },
      "execution_count": 81,
      "outputs": []
    },
    {
      "cell_type": "code",
      "source": [
        "# creating a function for lemmatization\n",
        "def lemmatize_word(news):\n",
        "  text = [lemmatizer.lemmatize(word) for word in news.split()]\n",
        "  return text"
      ],
      "metadata": {
        "id": "cVlkd8ZK3EQj"
      },
      "execution_count": 82,
      "outputs": []
    },
    {
      "cell_type": "code",
      "source": [
        "# applying this function to our dataset\n",
        "data_df['News_text']=data_df['News_text'].apply(lemmatize_word)\n",
        "data_df['News_text'].head()"
      ],
      "metadata": {
        "colab": {
          "base_uri": "https://localhost:8080/"
        },
        "id": "Hl0LJn3Z4KcR",
        "outputId": "f7e984f3-bd41-41ed-aa2e-0ea05c4ea950"
      },
      "execution_count": 83,
      "outputs": [
        {
          "output_type": "execute_result",
          "data": {
            "text/plain": [
              "0    [ad, sale, boost, time, warner, profit, quarte...\n",
              "1    [dollar, gain, greenspan, speech, dollar, hit,...\n",
              "2    [yukos, unit, buyer, face, loan, claim, owner,...\n",
              "3    [high, fuel, price, hit, ba, profit, british, ...\n",
              "4    [pernod, takeover, talk, lift, domecq, share, ...\n",
              "Name: News_text, dtype: object"
            ]
          },
          "metadata": {},
          "execution_count": 83
        }
      ]
    },
    {
      "cell_type": "code",
      "source": [
        "data_df['News_text'][6]"
      ],
      "metadata": {
        "colab": {
          "base_uri": "https://localhost:8080/"
        },
        "id": "TMxHUSjQ9Eys",
        "outputId": "f372ef7a-e043-4753-ae47-e13de9623d2d"
      },
      "execution_count": 85,
      "outputs": [
        {
          "output_type": "execute_result",
          "data": {
            "text/plain": [
              "['job',\n",
              " 'growth',\n",
              " 'still',\n",
              " 'slow',\n",
              " 'u',\n",
              " 'u',\n",
              " 'created',\n",
              " 'fewer',\n",
              " 'job',\n",
              " 'expected',\n",
              " 'january',\n",
              " 'fall',\n",
              " 'jobseekers',\n",
              " 'pushed',\n",
              " 'unemployment',\n",
              " 'rate',\n",
              " 'lowest',\n",
              " 'level',\n",
              " 'three',\n",
              " 'year',\n",
              " 'according',\n",
              " 'labor',\n",
              " 'department',\n",
              " 'figure',\n",
              " 'u',\n",
              " 'firm',\n",
              " 'added',\n",
              " 'job',\n",
              " 'january',\n",
              " 'gain',\n",
              " 'nonfarm',\n",
              " 'payroll',\n",
              " 'market',\n",
              " 'expectation',\n",
              " 'new',\n",
              " 'job',\n",
              " 'nevertheless',\n",
              " 'enough',\n",
              " 'push',\n",
              " 'unemployment',\n",
              " 'rate',\n",
              " 'lowest',\n",
              " 'level',\n",
              " 'since',\n",
              " 'september',\n",
              " 'job',\n",
              " 'gain',\n",
              " 'mean',\n",
              " 'president',\n",
              " 'bush',\n",
              " 'celebrate',\n",
              " 'albeit',\n",
              " 'fine',\n",
              " 'margin',\n",
              " 'net',\n",
              " 'growth',\n",
              " 'job',\n",
              " 'u',\n",
              " 'economy',\n",
              " 'first',\n",
              " 'term',\n",
              " 'office',\n",
              " 'presided',\n",
              " 'net',\n",
              " 'fall',\n",
              " 'job',\n",
              " 'last',\n",
              " 'november',\n",
              " 'presidential',\n",
              " 'election',\n",
              " 'first',\n",
              " 'president',\n",
              " 'since',\n",
              " 'herbert',\n",
              " 'hoover',\n",
              " 'result',\n",
              " 'job',\n",
              " 'creation',\n",
              " 'became',\n",
              " 'key',\n",
              " 'issue',\n",
              " 'last',\n",
              " 'year',\n",
              " 'election',\n",
              " 'however',\n",
              " 'adding',\n",
              " 'december',\n",
              " 'january',\n",
              " 'figure',\n",
              " 'administration',\n",
              " 'first',\n",
              " 'term',\n",
              " 'job',\n",
              " 'record',\n",
              " 'ended',\n",
              " 'positive',\n",
              " 'territory',\n",
              " 'labor',\n",
              " 'department',\n",
              " 'also',\n",
              " 'said',\n",
              " 'revised',\n",
              " 'job',\n",
              " 'gain',\n",
              " 'december',\n",
              " 'analyst',\n",
              " 'said',\n",
              " 'growth',\n",
              " 'new',\n",
              " 'job',\n",
              " 'strong',\n",
              " 'could',\n",
              " 'expected',\n",
              " 'given',\n",
              " 'favourable',\n",
              " 'economic',\n",
              " 'condition',\n",
              " 'suggests',\n",
              " 'employment',\n",
              " 'continuing',\n",
              " 'expand',\n",
              " 'moderate',\n",
              " 'pace',\n",
              " 'said',\n",
              " 'rick',\n",
              " 'egelton',\n",
              " 'deputy',\n",
              " 'chief',\n",
              " 'economist',\n",
              " 'bmo',\n",
              " 'financial',\n",
              " 'group',\n",
              " 'getting',\n",
              " 'boost',\n",
              " 'employment',\n",
              " 'would',\n",
              " 'got',\n",
              " 'given',\n",
              " 'low',\n",
              " 'value',\n",
              " 'dollar',\n",
              " 'still',\n",
              " 'relatively',\n",
              " 'low',\n",
              " 'interest',\n",
              " 'rate',\n",
              " 'environment',\n",
              " 'economy',\n",
              " 'producing',\n",
              " 'moderate',\n",
              " 'satisfying',\n",
              " 'amount',\n",
              " 'job',\n",
              " 'growth',\n",
              " 'said',\n",
              " 'ken',\n",
              " 'mayland',\n",
              " 'president',\n",
              " 'clearview',\n",
              " 'economics',\n",
              " 'mean',\n",
              " 'limited',\n",
              " 'number',\n",
              " 'new',\n",
              " 'opportunity',\n",
              " 'worker']"
            ]
          },
          "metadata": {},
          "execution_count": 85
        }
      ]
    },
    {
      "cell_type": "code",
      "source": [
        "data_df.head()"
      ],
      "metadata": {
        "colab": {
          "base_uri": "https://localhost:8080/",
          "height": 206
        },
        "id": "e-LwtfZU-vUR",
        "outputId": "c1e15106-0341-4a6c-9b0c-507eb58fe8cf"
      },
      "execution_count": 89,
      "outputs": [
        {
          "output_type": "execute_result",
          "data": {
            "text/plain": [
              "                                           News_text News_Theme\n",
              "0  [ad, sale, boost, time, warner, profit, quarte...   business\n",
              "1  [dollar, gain, greenspan, speech, dollar, hit,...   business\n",
              "2  [yukos, unit, buyer, face, loan, claim, owner,...   business\n",
              "3  [high, fuel, price, hit, ba, profit, british, ...   business\n",
              "4  [pernod, takeover, talk, lift, domecq, share, ...   business"
            ],
            "text/html": [
              "\n",
              "  <div id=\"df-f477955d-7bba-4b70-a50d-98d482fbddfe\">\n",
              "    <div class=\"colab-df-container\">\n",
              "      <div>\n",
              "<style scoped>\n",
              "    .dataframe tbody tr th:only-of-type {\n",
              "        vertical-align: middle;\n",
              "    }\n",
              "\n",
              "    .dataframe tbody tr th {\n",
              "        vertical-align: top;\n",
              "    }\n",
              "\n",
              "    .dataframe thead th {\n",
              "        text-align: right;\n",
              "    }\n",
              "</style>\n",
              "<table border=\"1\" class=\"dataframe\">\n",
              "  <thead>\n",
              "    <tr style=\"text-align: right;\">\n",
              "      <th></th>\n",
              "      <th>News_text</th>\n",
              "      <th>News_Theme</th>\n",
              "    </tr>\n",
              "  </thead>\n",
              "  <tbody>\n",
              "    <tr>\n",
              "      <th>0</th>\n",
              "      <td>[ad, sale, boost, time, warner, profit, quarte...</td>\n",
              "      <td>business</td>\n",
              "    </tr>\n",
              "    <tr>\n",
              "      <th>1</th>\n",
              "      <td>[dollar, gain, greenspan, speech, dollar, hit,...</td>\n",
              "      <td>business</td>\n",
              "    </tr>\n",
              "    <tr>\n",
              "      <th>2</th>\n",
              "      <td>[yukos, unit, buyer, face, loan, claim, owner,...</td>\n",
              "      <td>business</td>\n",
              "    </tr>\n",
              "    <tr>\n",
              "      <th>3</th>\n",
              "      <td>[high, fuel, price, hit, ba, profit, british, ...</td>\n",
              "      <td>business</td>\n",
              "    </tr>\n",
              "    <tr>\n",
              "      <th>4</th>\n",
              "      <td>[pernod, takeover, talk, lift, domecq, share, ...</td>\n",
              "      <td>business</td>\n",
              "    </tr>\n",
              "  </tbody>\n",
              "</table>\n",
              "</div>\n",
              "      <button class=\"colab-df-convert\" onclick=\"convertToInteractive('df-f477955d-7bba-4b70-a50d-98d482fbddfe')\"\n",
              "              title=\"Convert this dataframe to an interactive table.\"\n",
              "              style=\"display:none;\">\n",
              "        \n",
              "  <svg xmlns=\"http://www.w3.org/2000/svg\" height=\"24px\"viewBox=\"0 0 24 24\"\n",
              "       width=\"24px\">\n",
              "    <path d=\"M0 0h24v24H0V0z\" fill=\"none\"/>\n",
              "    <path d=\"M18.56 5.44l.94 2.06.94-2.06 2.06-.94-2.06-.94-.94-2.06-.94 2.06-2.06.94zm-11 1L8.5 8.5l.94-2.06 2.06-.94-2.06-.94L8.5 2.5l-.94 2.06-2.06.94zm10 10l.94 2.06.94-2.06 2.06-.94-2.06-.94-.94-2.06-.94 2.06-2.06.94z\"/><path d=\"M17.41 7.96l-1.37-1.37c-.4-.4-.92-.59-1.43-.59-.52 0-1.04.2-1.43.59L10.3 9.45l-7.72 7.72c-.78.78-.78 2.05 0 2.83L4 21.41c.39.39.9.59 1.41.59.51 0 1.02-.2 1.41-.59l7.78-7.78 2.81-2.81c.8-.78.8-2.07 0-2.86zM5.41 20L4 18.59l7.72-7.72 1.47 1.35L5.41 20z\"/>\n",
              "  </svg>\n",
              "      </button>\n",
              "      \n",
              "  <style>\n",
              "    .colab-df-container {\n",
              "      display:flex;\n",
              "      flex-wrap:wrap;\n",
              "      gap: 12px;\n",
              "    }\n",
              "\n",
              "    .colab-df-convert {\n",
              "      background-color: #E8F0FE;\n",
              "      border: none;\n",
              "      border-radius: 50%;\n",
              "      cursor: pointer;\n",
              "      display: none;\n",
              "      fill: #1967D2;\n",
              "      height: 32px;\n",
              "      padding: 0 0 0 0;\n",
              "      width: 32px;\n",
              "    }\n",
              "\n",
              "    .colab-df-convert:hover {\n",
              "      background-color: #E2EBFA;\n",
              "      box-shadow: 0px 1px 2px rgba(60, 64, 67, 0.3), 0px 1px 3px 1px rgba(60, 64, 67, 0.15);\n",
              "      fill: #174EA6;\n",
              "    }\n",
              "\n",
              "    [theme=dark] .colab-df-convert {\n",
              "      background-color: #3B4455;\n",
              "      fill: #D2E3FC;\n",
              "    }\n",
              "\n",
              "    [theme=dark] .colab-df-convert:hover {\n",
              "      background-color: #434B5C;\n",
              "      box-shadow: 0px 1px 3px 1px rgba(0, 0, 0, 0.15);\n",
              "      filter: drop-shadow(0px 1px 2px rgba(0, 0, 0, 0.3));\n",
              "      fill: #FFFFFF;\n",
              "    }\n",
              "  </style>\n",
              "\n",
              "      <script>\n",
              "        const buttonEl =\n",
              "          document.querySelector('#df-f477955d-7bba-4b70-a50d-98d482fbddfe button.colab-df-convert');\n",
              "        buttonEl.style.display =\n",
              "          google.colab.kernel.accessAllowed ? 'block' : 'none';\n",
              "\n",
              "        async function convertToInteractive(key) {\n",
              "          const element = document.querySelector('#df-f477955d-7bba-4b70-a50d-98d482fbddfe');\n",
              "          const dataTable =\n",
              "            await google.colab.kernel.invokeFunction('convertToInteractive',\n",
              "                                                     [key], {});\n",
              "          if (!dataTable) return;\n",
              "\n",
              "          const docLinkHtml = 'Like what you see? Visit the ' +\n",
              "            '<a target=\"_blank\" href=https://colab.research.google.com/notebooks/data_table.ipynb>data table notebook</a>'\n",
              "            + ' to learn more about interactive tables.';\n",
              "          element.innerHTML = '';\n",
              "          dataTable['output_type'] = 'display_data';\n",
              "          await google.colab.output.renderOutput(dataTable, element);\n",
              "          const docLink = document.createElement('div');\n",
              "          docLink.innerHTML = docLinkHtml;\n",
              "          element.appendChild(docLink);\n",
              "        }\n",
              "      </script>\n",
              "    </div>\n",
              "  </div>\n",
              "  "
            ]
          },
          "metadata": {},
          "execution_count": 89
        }
      ]
    },
    {
      "cell_type": "code",
      "source": [],
      "metadata": {
        "id": "hPxIpp0rAjIi"
      },
      "execution_count": null,
      "outputs": []
    }
  ],
  "metadata": {
    "colab": {
      "provenance": [],
      "mount_file_id": "1wzb4gmgHs_yeYn7AoCA0To82lT7mQFGe",
      "authorship_tag": "ABX9TyNbL91ThXv5fV+EAG6z4O0h",
      "include_colab_link": true
    },
    "kernelspec": {
      "display_name": "Python 3",
      "name": "python3"
    },
    "language_info": {
      "name": "python"
    }
  },
  "nbformat": 4,
  "nbformat_minor": 0
}